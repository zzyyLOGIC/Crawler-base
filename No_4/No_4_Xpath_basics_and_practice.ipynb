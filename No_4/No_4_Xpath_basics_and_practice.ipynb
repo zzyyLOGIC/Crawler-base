{
 "cells": [
  {
   "cell_type": "markdown",
   "id": "02d3ed4a",
   "metadata": {},
   "source": [
    "# 开始使用Xpath\n",
    "从某种意义上来说，HTML就是XML的一种特殊形式。因此XPath可以处理XML文件，也可以处理HTML文件。  \n",
    "为了验证XPath语法，在这里使用的是lxml模块，安装命令：`pip install lxml`（anaconda已包含）"
   ]
  },
  {
   "cell_type": "markdown",
   "id": "e464011c",
   "metadata": {},
   "source": [
    "## 常见的HTML操作"
   ]
  },
  {
   "cell_type": "code",
   "execution_count": 1,
   "id": "73706d82",
   "metadata": {
    "ExecuteTime": {
     "end_time": "2024-02-17T02:58:02.295565Z",
     "start_time": "2024-02-17T02:58:02.290688Z"
    },
    "collapsed": true
   },
   "outputs": [
    {
     "ename": "SyntaxError",
     "evalue": "invalid syntax (18084047.py, line 2)",
     "output_type": "error",
     "traceback": [
      "\u001b[1;36m  Cell \u001b[1;32mIn[1], line 2\u001b[1;36m\u001b[0m\n\u001b[1;33m    <html>\u001b[0m\n\u001b[1;37m    ^\u001b[0m\n\u001b[1;31mSyntaxError\u001b[0m\u001b[1;31m:\u001b[0m invalid syntax\n"
     ]
    }
   ],
   "source": [
    "# HTML文件内容\n",
    "<html>\n",
    "<body>\n",
    "<a>link</a>\n",
    "<div class='container' id='divone'>\n",
    "<p class='common' id='enclosedone'>Element One</p>\n",
    "<p class='common' id='enclosedone'>Element Two</p>\n",
    "</div>\n",
    "</body>\n",
    "</html>"
   ]
  },
  {
   "cell_type": "markdown",
   "id": "a06e5d76",
   "metadata": {},
   "source": [
    "运行结果如图：  \n",
    "<img src='1.png' width='50%' height='50%'/>  \n",
    "先将网页标准化："
   ]
  },
  {
   "cell_type": "code",
   "execution_count": 2,
   "id": "d278aa72",
   "metadata": {
    "ExecuteTime": {
     "end_time": "2024-02-17T03:04:47.796711Z",
     "start_time": "2024-02-17T03:04:47.759897Z"
    }
   },
   "outputs": [
    {
     "name": "stdout",
     "output_type": "stream",
     "text": [
      "<Element html at 0x218e3c0d780>\n"
     ]
    }
   ],
   "source": [
    "from lxml import etree\n",
    "str='''<html>\n",
    "<body>\n",
    "<a>link</a>\n",
    "<div class='container' id='divone'>\n",
    "<p class='common' id='enclosedone'>Element One</p>\n",
    "<p class='common' id='enclosedone'>Element Two</p>\n",
    "</div>\n",
    "</body>\n",
    "</html>'''\n",
    "html = etree.HTML(str)  # 自动修正为标准html\n",
    "print(html)"
   ]
  },
  {
   "cell_type": "markdown",
   "id": "00989de2",
   "metadata": {},
   "source": [
    "对数据进行提取的案例如下："
   ]
  },
  {
   "cell_type": "code",
   "execution_count": 4,
   "id": "7d827250",
   "metadata": {
    "ExecuteTime": {
     "end_time": "2024-02-17T03:13:25.861475Z",
     "start_time": "2024-02-17T03:13:25.856957Z"
    },
    "collapsed": true
   },
   "outputs": [
    {
     "name": "stdout",
     "output_type": "stream",
     "text": [
      "[]\n",
      "[]\n",
      "[]\n",
      "[]\n",
      "[]\n"
     ]
    }
   ],
   "source": [
    "# 在整个页面中查找具有特定id的元素\n",
    "res1 = html.xpath(\"//*[@id='first']\")\n",
    "\n",
    "# 通过绝对路径查找具有特定id的元素\n",
    "res2 = html.xpath(\"/html/body/div/p[@id='two']\")\n",
    "\n",
    "# 选择同时具有特定id和class的元素\n",
    "res3 = html.xpath(\"//p[@id='two' and @class='common']\")\n",
    "\n",
    "# 选择特定元素的文本\n",
    "res4 = html.xpath(\"/html/body/div/p[@id='three']/text()\")\n",
    "res5 = html.xpath(\"//p[@id='three']/text()\")"
   ]
  },
  {
   "cell_type": "markdown",
   "id": "60b38bd2",
   "metadata": {},
   "source": [
    "## 常见的XML操作"
   ]
  },
  {
   "cell_type": "code",
   "execution_count": 5,
   "id": "c6a92cf8",
   "metadata": {
    "ExecuteTime": {
     "end_time": "2024-02-17T03:17:08.563524Z",
     "start_time": "2024-02-17T03:17:08.558413Z"
    },
    "collapsed": true
   },
   "outputs": [
    {
     "ename": "SyntaxError",
     "evalue": "invalid syntax (3648972592.py, line 2)",
     "output_type": "error",
     "traceback": [
      "\u001b[1;36m  Cell \u001b[1;32mIn[5], line 2\u001b[1;36m\u001b[0m\n\u001b[1;33m    <r>\u001b[0m\n\u001b[1;37m    ^\u001b[0m\n\u001b[1;31mSyntaxError\u001b[0m\u001b[1;31m:\u001b[0m invalid syntax\n"
     ]
    }
   ],
   "source": [
    "# XML\n",
    "<r>\n",
    "<e a=\"1\"/>\n",
    "<f a=\"2\" b=\"1\">hello python</f>\n",
    "<f/>\n",
    "<g>\n",
    "<i c=\"2\">hello xpath</i>\n",
    "世界你好\n",
    "<j>I love you</j>\n",
    "</g>\n",
    "</r>"
   ]
  },
  {
   "cell_type": "code",
   "execution_count": 6,
   "id": "7086aea9",
   "metadata": {
    "ExecuteTime": {
     "end_time": "2024-02-17T03:20:37.343316Z",
     "start_time": "2024-02-17T03:20:37.323738Z"
    }
   },
   "outputs": [
    {
     "name": "stdout",
     "output_type": "stream",
     "text": [
      "<Element r at 0x218e4afae80>\n"
     ]
    }
   ],
   "source": [
    "# 第一步：对XML文件内容标准化\n",
    "from lxml import etree\n",
    "str='''<r>\n",
    "<e a=\"1\"/>\n",
    "<f a=\"2\" b=\"1\">hello python</f>\n",
    "<f/>\n",
    "<g>\n",
    "<i c=\"2\">hello xpath</i>\n",
    "世界你好\n",
    "<j>I love you</j>\n",
    "</g>\n",
    "</r>'''\n",
    "xml = etree.XML(str)\n",
    "print(xml)"
   ]
  },
  {
   "cell_type": "code",
   "execution_count": 7,
   "id": "fa1704a5",
   "metadata": {
    "ExecuteTime": {
     "end_time": "2024-02-17T03:25:11.452203Z",
     "start_time": "2024-02-17T03:25:11.448161Z"
    }
   },
   "outputs": [
    {
     "name": "stdout",
     "output_type": "stream",
     "text": [
      "[<Element e at 0x218e4b58dc0>]\n",
      "['hello python']\n",
      "hello python\n"
     ]
    }
   ],
   "source": [
    "# 标准化后，使用几个案例来加强学习\n",
    "# eg1:选择一个元素\n",
    "res1 = xml.xpath('/r/e')\n",
    "print(res1)\n",
    "\n",
    "# eg2:选择元素中的文字\n",
    "res2 = xml.xpath('/r/f/text()')\n",
    "print(res2)\n",
    "\n",
    "# eg3:选择具有此字符串值的文本结点\n",
    "res3 = xml.xpath('string(/r/f)')\n",
    "print(res3)"
   ]
  },
  {
   "cell_type": "markdown",
   "id": "fc77bc11",
   "metadata": {},
   "source": [
    "## 浏览器使用Xpath调试\n",
    "步骤：  \n",
    "1. 按`F12`键进入控制台  \n",
    "2. 使用快捷键`Ctrl+F`进入搜索框  \n",
    "3. 将编写好的XPath语法输入搜索框，按回车键后查看是否匹配到内容  \n",
    "[示例网址](https://blog.csdn.net/weixin_46211269?spm=1000.2115.3001.5343)\n",
    "<img src='2.png' width='75%' height='75%'/>\n",
    "<img src='3.png' width='75%' height='75%'/>"
   ]
  },
  {
   "cell_type": "markdown",
   "id": "4b69d35c",
   "metadata": {},
   "source": [
    "## 谷歌插件的安装与XPath Helper的使用\n",
    "Xpath Helper是谷歌插件  \n",
    "安装：（自行搜索下载）  \n",
    "使用：打开/关闭：`Crtl+Shift+X`（会在上面显示两个黑框）（一直按住shift键，鼠标移动到哪里，上面的黑色框都会定位出来，松开shift键即停止）  \n",
    "左侧框为绝对路径的XPath，右侧框是鼠标停下来定位的内容。  \n",
    "可以通过左侧黑色框写的XPath语法来检测是否定位成功。"
   ]
  },
  {
   "cell_type": "markdown",
   "id": "885dee74",
   "metadata": {},
   "source": [
    "## 浏览器复制XPath\n",
    "定位所需位置，单击鼠标右键，选择“复制”，复制XPath/复制完整XPath（一般选择前面一个）  \n",
    "上述方法适合定位单个位置   \n",
    "<img src=\"4.png\" width='75%' height='75%'/>"
   ]
  },
  {
   "cell_type": "markdown",
   "id": "d9e51171",
   "metadata": {},
   "source": [
    "由于HTML是XML的一种特殊形式，因此，介绍一些常见的XML语法：  \n",
    "- `*`星号用于选择所有子元素  \n",
    "- `.`点用于选择当前结点  \n",
    "- `//`用于在当前元素的所有下级中选择所有下级元素  \n",
    "- `..`用于选择父元素  \n",
    "- `[@attrib]`选择属性为attrib的所有元素  \n",
    "- `[@attrib='value']`选择给定属性具有给定值的所有元素  \n",
    "- `[@attrib!='value']`选择给定属性不具有给定值的所有元素  \n",
    "- `[position]`选择位于给定位置的所有元素。可以是一个整数（1表示首位），一个表达式（last()末位），或者相对于末位的位置（last()-1） \n",
    "- `tag`选择所有包含tag子元素的元素  \n",
    "常用的函数：  \n",
    "* `./text()`表示只取当前结点中的文本内容  \n",
    "* `//div[contains(@id,'stu')]`为模糊匹配，表示选择属性id中包含'stu'字符串的所有div结点  \n",
    "* `//input[start-with(@id,'s')]`匹配id属性以s开头的元素  \n",
    "* `//input[ends-with(@id,'t')]`匹配id属性以t结尾的元素"
   ]
  },
  {
   "cell_type": "markdown",
   "id": "bdb760f7",
   "metadata": {},
   "source": [
    "# 属性的匹配"
   ]
  },
  {
   "cell_type": "code",
   "execution_count": null,
   "id": "52007162",
   "metadata": {},
   "outputs": [],
   "source": [
    "<place>\n",
    "<name>zhangsan</name>\n",
    "<plan name=\"北京\" type=\"first\"/>\n",
    "<plan name=\"上海\" type=\"second\"/>\n",
    "<place/>"
   ]
  },
  {
   "cell_type": "code",
   "execution_count": 16,
   "id": "f2f4976d",
   "metadata": {
    "ExecuteTime": {
     "end_time": "2024-02-17T12:49:55.386925Z",
     "start_time": "2024-02-17T12:49:55.382732Z"
    }
   },
   "outputs": [
    {
     "name": "stdout",
     "output_type": "stream",
     "text": [
      "<Element place at 0x218e521a540>\n"
     ]
    }
   ],
   "source": [
    "# 标准化\n",
    "from lxml import etree\n",
    "str = '''<place>\n",
    "<name>zhangsan</name>\n",
    "<plan name=\"北京\" type=\"first\"/>\n",
    "<plan name=\"上海\" type=\"second\"/>\n",
    "</place>'''\n",
    "xml = etree.XML(str)\n",
    "print(xml)"
   ]
  },
  {
   "cell_type": "markdown",
   "id": "1d7ad1f1",
   "metadata": {},
   "source": [
    "**注意区别** etree.XML()和etree.HTML()"
   ]
  },
  {
   "cell_type": "markdown",
   "id": "165d71a9",
   "metadata": {},
   "source": [
    "## 根据具体属性匹配"
   ]
  },
  {
   "cell_type": "code",
   "execution_count": 17,
   "id": "b32e50a0",
   "metadata": {
    "ExecuteTime": {
     "end_time": "2024-02-17T12:49:57.293319Z",
     "start_time": "2024-02-17T12:49:57.288909Z"
    }
   },
   "outputs": [
    {
     "name": "stdout",
     "output_type": "stream",
     "text": [
      "[<Element plan at 0x218e4b4eb40>, <Element plan at 0x218e4b4c4c0>]\n",
      "[<Element plan at 0x218e4b4eb40>, <Element plan at 0x218e4b4c4c0>]\n"
     ]
    }
   ],
   "source": [
    "# 匹配所有name属性的标签\n",
    "# xml.xpath('/Galaxy/*[@name]')\n",
    "res1 = xml.xpath('/place/*[@name]')\n",
    "print(res1)\n",
    "# 绝对路径\n",
    "res2 = xml.xpath('//*[@name]')\n",
    "print(res2)"
   ]
  },
  {
   "cell_type": "markdown",
   "id": "c4d59bac",
   "metadata": {},
   "source": [
    "**知识点**：属性读取用`@`，读取所有则用`*`"
   ]
  },
  {
   "cell_type": "markdown",
   "id": "79242ec4",
   "metadata": {},
   "source": [
    "## 通过属性值的字段匹配\n",
    "是否包含某字段"
   ]
  },
  {
   "cell_type": "code",
   "execution_count": 20,
   "id": "a58ae566",
   "metadata": {
    "ExecuteTime": {
     "end_time": "2024-02-17T12:52:24.893623Z",
     "start_time": "2024-02-17T12:52:24.889128Z"
    }
   },
   "outputs": [
    {
     "name": "stdout",
     "output_type": "stream",
     "text": [
      "[<Element plan at 0x218e4b4eb40>]\n",
      "[<Element plan at 0x218e4b4eb40>]\n"
     ]
    }
   ],
   "source": [
    "res3 = xml.xpath(r\"/place/*[contains(@name,'北')]\")\n",
    "# contains()包含，查找place路径下，所有name属性中含有“北”的结点\n",
    "print(res3)\n",
    "res4 = xml.xpath(\"//*[contains(@name,'北')]\")\n",
    "print(res4)"
   ]
  },
  {
   "cell_type": "markdown",
   "id": "62956919",
   "metadata": {},
   "source": [
    "## 属性值获取\n",
    "属性匹配的格式还可以为：@+属性名。  \n",
    "**注意:** 属性匹配是限定某个属性，属性获取是得到某个标签下的属性值。一个是限定，一个是获取值"
   ]
  },
  {
   "cell_type": "code",
   "execution_count": 21,
   "id": "daed91c0",
   "metadata": {
    "ExecuteTime": {
     "end_time": "2024-02-17T13:08:05.699714Z",
     "start_time": "2024-02-17T13:08:05.696631Z"
    }
   },
   "outputs": [
    {
     "name": "stdout",
     "output_type": "stream",
     "text": [
      "['北京', '上海']\n"
     ]
    }
   ],
   "source": [
    "res5 = xml.xpath('//place/plan/@name')\n",
    "print(res5)"
   ]
  },
  {
   "cell_type": "markdown",
   "id": "06939214",
   "metadata": {},
   "source": [
    "# XPath处理HTML常用方法\n",
    "一些常见语法：  \n",
    "1. `/`用于从当前节点选取直接子节点  \n",
    "2. `//`用于从当前节点选取子孙节点  \n",
    "3. `.`用于选取当前节点  \n",
    "4. `..`用于选取当前节点的父节点  \n",
    "5. `@`用于选取属性\n",
    "6. `*`用于选取所有"
   ]
  },
  {
   "cell_type": "code",
   "execution_count": null,
   "id": "84b48d96",
   "metadata": {},
   "outputs": [],
   "source": [
    "<div>\n",
    "    <ul>\n",
    "         <li class=\"first\"><a href=\"https://www.csdn.net/\">CSDN</a></li>\n",
    "         <li class=\"two\"><a href=\"https://www.zhihu.com/hot\">zhihu</a></li>\n",
    "         <li class=\"three\"><a href=\"https://www.runoob.com/linux/linux-tutorial.html\" class=\"linux\">linux</a></li>\n",
    "         <li class=\"four\"><a href=\"https://leetcode-cn.com/\">leecode</a></li>\n",
    "         <li class=\"five\"><a href=\"https://www.facebook.com/\">facebook</a></li>\n",
    "         <li class=\"six\"><a href=\"https://www.bilibili.com/\">bilibili</a></li>\n",
    "     </ul>\n",
    " </div>'''"
   ]
  },
  {
   "cell_type": "code",
   "execution_count": 1,
   "id": "cb110058",
   "metadata": {
    "ExecuteTime": {
     "end_time": "2024-02-18T23:39:44.211959Z",
     "start_time": "2024-02-18T23:39:44.151973Z"
    }
   },
   "outputs": [
    {
     "name": "stdout",
     "output_type": "stream",
     "text": [
      "<html><body><div>\n",
      "    <ul>\n",
      "         <li class=\"first\"><a href=\"https://www.csdn.net/\">CSDN</a></li>\n",
      "         <li class=\"two\"><a href=\"https://www.zhihu.com/hot\">zhihu</a></li>\n",
      "         <li class=\"three\"><a href=\"https://www.runoob.com/linux/linux-tutorial.html\" class=\"linux\">linux</a></li>\n",
      "         <li class=\"four\"><a href=\"https://leetcode-cn.com/\">leecode</a></li>\n",
      "         <li class=\"five\"><a href=\"https://www.facebook.com/\">facebook</a></li>\n",
      "         <li class=\"six\"><a href=\"https://www.bilibili.com/\">bilibili</a></li>\n",
      "     </ul>\n",
      " </div>\n",
      " </body></html>\n"
     ]
    }
   ],
   "source": [
    "from lxml import etree\n",
    "html ='''\n",
    "<div>\n",
    "    <ul>\n",
    "         <li class=\"first\"><a href=\"https://www.csdn.net/\">CSDN</a></li>\n",
    "         <li class=\"two\"><a href=\"https://www.zhihu.com/hot\">zhihu</a></li>\n",
    "         <li class=\"three\"><a href=\"https://www.runoob.com/linux/linux-tutorial.html\" class=\"linux\">linux</a></li>\n",
    "         <li class=\"four\"><a href=\"https://leetcode-cn.com/\">leecode</a></li>\n",
    "         <li class=\"five\"><a href=\"https://www.facebook.com/\">facebook</a></li>\n",
    "         <li class=\"six\"><a href=\"https://www.bilibili.com/\">bilibili</a></li>\n",
    "     </ul>\n",
    " </div>\n",
    " '''\n",
    "# 数据转换成标签树的方式\n",
    "html_tree = etree.HTML(html)\n",
    "# print(html_tree)\n",
    "# 看一下html_tree里面的数据\n",
    "print(etree.tostring(html_tree).decode('utf-8'))"
   ]
  },
  {
   "cell_type": "code",
   "execution_count": 23,
   "id": "6985d0e1",
   "metadata": {
    "ExecuteTime": {
     "end_time": "2024-02-17T14:06:13.817082Z",
     "start_time": "2024-02-17T14:06:13.813442Z"
    }
   },
   "outputs": [
    {
     "name": "stdout",
     "output_type": "stream",
     "text": [
      "[<Element li at 0x218e55a3e40>, <Element li at 0x218e55a2600>, <Element li at 0x218e55a35c0>, <Element li at 0x218e55a3ac0>, <Element li at 0x218e55a0200>, <Element li at 0x218e55a3880>]\n"
     ]
    }
   ],
   "source": [
    "# eg1:获取所有li节点\n",
    "li = html_tree.xpath('//li')\n",
    "print(li)"
   ]
  },
  {
   "cell_type": "markdown",
   "id": "dc58ef6e",
   "metadata": {},
   "source": [
    "**知识点:** `//`用于获取所有节点，`XPath`返回数据是列表，格式为`[Element li 内存地址]`"
   ]
  },
  {
   "cell_type": "code",
   "execution_count": 24,
   "id": "98f753ae",
   "metadata": {
    "ExecuteTime": {
     "end_time": "2024-02-17T14:31:25.682925Z",
     "start_time": "2024-02-17T14:31:25.678902Z"
    }
   },
   "outputs": [
    {
     "name": "stdout",
     "output_type": "stream",
     "text": [
      "['zhihu']\n"
     ]
    }
   ],
   "source": [
    "# eg2:获取属性为two的文本\n",
    "li2 = html_tree.xpath('//li[@class=\"two\"]')\n",
    "print(li2[0].xpath(\".//a/text()\"))"
   ]
  },
  {
   "cell_type": "markdown",
   "id": "5c6f03f0",
   "metadata": {},
   "source": [
    "**知识点：** Xpath返回的是一个列表，由于属性为`two`的标签只有一个，所以索引用`li2[0]`，返回的是`Element`。  \n",
    "定位到标签后，再次使用XPath，定位到标签a，用text()获得文本"
   ]
  },
  {
   "cell_type": "code",
   "execution_count": 25,
   "id": "1d45191a",
   "metadata": {
    "ExecuteTime": {
     "end_time": "2024-02-17T14:35:41.121812Z",
     "start_time": "2024-02-17T14:35:41.118879Z"
    }
   },
   "outputs": [
    {
     "name": "stdout",
     "output_type": "stream",
     "text": [
      "[<Element li at 0x218e55a2600>, <Element li at 0x218e55a35c0>, <Element li at 0x218e55a3ac0>, <Element li at 0x218e55a0200>, <Element li at 0x218e55a3880>]\n"
     ]
    }
   ],
   "source": [
    "# eg3:查询class属性不等于'first'的标签\n",
    "li3 = html_tree.xpath('//li[@class!=\"first\"]')\n",
    "print(li3)"
   ]
  },
  {
   "cell_type": "markdown",
   "id": "ed248df1",
   "metadata": {},
   "source": [
    "**知识点：** 属性定位用`@`符号，由于是选取不等于的内容，所以使用`!=`"
   ]
  },
  {
   "cell_type": "code",
   "execution_count": 27,
   "id": "65f97c66",
   "metadata": {
    "ExecuteTime": {
     "end_time": "2024-02-17T14:56:08.366435Z",
     "start_time": "2024-02-17T14:56:08.363435Z"
    }
   },
   "outputs": [
    {
     "name": "stdout",
     "output_type": "stream",
     "text": [
      "[<Element li at 0x218e55a2600>]\n"
     ]
    }
   ],
   "source": [
    "# eg4:查询li标签class包含tw字符串的标签\n",
    "li4 = html_tree.xpath('//li[contains(@class,\"tw\")]')\n",
    "print(li4)"
   ]
  },
  {
   "cell_type": "code",
   "execution_count": 28,
   "id": "d4c01df7",
   "metadata": {
    "ExecuteTime": {
     "end_time": "2024-02-17T14:57:12.106491Z",
     "start_time": "2024-02-17T14:57:12.103583Z"
    }
   },
   "outputs": [
    {
     "name": "stdout",
     "output_type": "stream",
     "text": [
      "['https://www.zhihu.com/hot']\n"
     ]
    }
   ],
   "source": [
    "# eg5:获取eg4的li4结果的href属性\n",
    "h = li4[0].xpath('./a/@href')\n",
    "print(h)"
   ]
  },
  {
   "cell_type": "markdown",
   "id": "25f2303d",
   "metadata": {},
   "source": [
    "**知识点：** href属性在a标签下，href是a标签的属性，属性读取用@"
   ]
  },
  {
   "cell_type": "code",
   "execution_count": 29,
   "id": "876bb248",
   "metadata": {
    "ExecuteTime": {
     "end_time": "2024-02-17T14:58:49.827110Z",
     "start_time": "2024-02-17T14:58:49.824165Z"
    }
   },
   "outputs": [
    {
     "name": "stdout",
     "output_type": "stream",
     "text": [
      "['https://www.csdn.net/', 'https://www.zhihu.com/hot', 'https://www.runoob.com/linux/linux-tutorial.html', 'linux', 'https://leetcode-cn.com/', 'https://www.facebook.com/', 'https://www.bilibili.com/']\n"
     ]
    }
   ],
   "source": [
    "# eg6:获取所有a标签中的href属性\n",
    "c = html_tree.xpath('//li/a/@*')\n",
    "print(c)"
   ]
  },
  {
   "cell_type": "markdown",
   "id": "191aec99",
   "metadata": {},
   "source": [
    "**知识点：** a标签都在li标签下，所以//li选取所有li的子节点，然后读取下面的a标签，@选取属性，*表示所有"
   ]
  },
  {
   "cell_type": "code",
   "execution_count": 2,
   "id": "e95ad2d4",
   "metadata": {
    "ExecuteTime": {
     "end_time": "2024-02-18T23:41:15.152144Z",
     "start_time": "2024-02-18T23:41:15.129038Z"
    }
   },
   "outputs": [
    {
     "name": "stdout",
     "output_type": "stream",
     "text": [
      "[<Element li at 0x2a8cf2bc640>, <Element li at 0x2a8cf2bc8c0>, <Element li at 0x2a8cf2bd800>, <Element li at 0x2a8cf2bc900>, <Element li at 0x2a8cf2bd5c0>]\n",
      "<li class=\"first\"><a href=\"https://www.csdn.net/\">CSDN</a></li>\n",
      "         \n"
     ]
    }
   ],
   "source": [
    "# eg7:查询li标签中不包含tw字符串的标签\n",
    "li5 = html_tree.xpath('//li[not(contains(@class,\"tw\"))]')\n",
    "print(li5)\n",
    "print(etree.tostring(li5[0]).decode('utf-8'))"
   ]
  },
  {
   "cell_type": "markdown",
   "id": "3bb8acd9",
   "metadata": {},
   "source": [
    "**知识点：** 选取内容用`contains`，选取不包含内容，则在前面加`not`。 `etree.tostring()`是以文本形式打印的意思，可以显示出元素的具体内容。"
   ]
  },
  {
   "cell_type": "code",
   "execution_count": 5,
   "id": "9f698f27",
   "metadata": {
    "ExecuteTime": {
     "end_time": "2024-02-19T00:01:26.903632Z",
     "start_time": "2024-02-19T00:01:26.899247Z"
    }
   },
   "outputs": [
    {
     "name": "stdout",
     "output_type": "stream",
     "text": [
      "[<Element li at 0x2a8cf2bc8c0>]\n",
      "<li class=\"three\"><a href=\"https://www.runoob.com/linux/linux-tutorial.html\" class=\"linux\">linux</a></li>\n",
      "         \n"
     ]
    }
   ],
   "source": [
    "# eg8:对li标签进行查询，class不包含f字符串，同时包含属性three\n",
    "li6 = html_tree.xpath('//li[not(contains(@class,\"f\"))][@class=\"three\"]')\n",
    "print(li6)\n",
    "print(etree.tostring(li6[0]).decode('utf-8'))"
   ]
  },
  {
   "cell_type": "markdown",
   "id": "cb5ef4b6",
   "metadata": {},
   "source": [
    "**知识点：** 同时满足两种情况时，每种情况分别用括号表示"
   ]
  },
  {
   "cell_type": "code",
   "execution_count": 6,
   "id": "2b3a615b",
   "metadata": {
    "ExecuteTime": {
     "end_time": "2024-02-19T00:05:27.081340Z",
     "start_time": "2024-02-19T00:05:27.077778Z"
    }
   },
   "outputs": [
    {
     "name": "stdout",
     "output_type": "stream",
     "text": [
      "[<Element li at 0x2a8cf2bc640>, <Element li at 0x2a8cf285ac0>, <Element li at 0x2a8cf2bc8c0>, <Element li at 0x2a8cf2bd800>, <Element li at 0x2a8cf2bc900>, <Element li at 0x2a8cf2bd5c0>]\n",
      "[<Element li at 0x2a8cf2bc640>, <Element li at 0x2a8cf285ac0>, <Element li at 0x2a8cf2bc8c0>, <Element li at 0x2a8cf2bd800>, <Element li at 0x2a8cf2bc900>, <Element li at 0x2a8cf2bd5c0>]\n"
     ]
    }
   ],
   "source": [
    "# eg9:查找根目录下所有的li\n",
    "ll = html_tree.xpath('/html/body/div/ul/li')  # 绝对路径\n",
    "ll2 = html_tree.xpath('//li')  # 相对路径\n",
    "print(ll)\n",
    "print(ll2)"
   ]
  },
  {
   "cell_type": "code",
   "execution_count": 8,
   "id": "2dc06641",
   "metadata": {
    "ExecuteTime": {
     "end_time": "2024-02-19T00:08:37.494053Z",
     "start_time": "2024-02-19T00:08:37.490535Z"
    }
   },
   "outputs": [
    {
     "name": "stdout",
     "output_type": "stream",
     "text": [
      "[<Element li at 0x2a8cf2bd5c0>]\n",
      "[<Element li at 0x2a8cf2bc900>]\n"
     ]
    }
   ],
   "source": [
    "#eg10:查询最后一个li标签\n",
    "li7 = html_tree.xpath('//li[last()]')\n",
    "li8 = html_tree.xpath('//li[5]')\n",
    "print(li7)\n",
    "print(li8)"
   ]
  },
  {
   "cell_type": "markdown",
   "id": "4f2e9005",
   "metadata": {},
   "source": [
    "**知识点：** 第一种方法是在列表中传入last()表示最后一个；第二种方法是看出最后一个的位置（数量少的时候使用）"
   ]
  },
  {
   "cell_type": "code",
   "execution_count": 9,
   "id": "b47138c5",
   "metadata": {
    "ExecuteTime": {
     "end_time": "2024-02-19T00:11:48.605184Z",
     "start_time": "2024-02-19T00:11:48.601134Z"
    }
   },
   "outputs": [
    {
     "name": "stdout",
     "output_type": "stream",
     "text": [
      "<li class=\"five\"><a href=\"https://www.facebook.com/\">facebook</a></li>\n",
      "         \n"
     ]
    }
   ],
   "source": [
    "# eg11:查询li标签倒数第二个具体内容\n",
    "li9 = html_tree.xpath('//li[last()-1]')\n",
    "print(etree.tostring(li9[0]).decode('utf-8'))"
   ]
  },
  {
   "cell_type": "markdown",
   "id": "7e0af471",
   "metadata": {},
   "source": [
    "**知识点：** `last()-n`就是倒数第n+1个"
   ]
  },
  {
   "cell_type": "code",
   "execution_count": 11,
   "id": "645febfa",
   "metadata": {
    "ExecuteTime": {
     "end_time": "2024-02-19T01:51:14.192749Z",
     "start_time": "2024-02-19T01:51:14.189449Z"
    }
   },
   "outputs": [
    {
     "name": "stdout",
     "output_type": "stream",
     "text": [
      "[<Element li at 0x2a8cf2bc640>, <Element li at 0x2a8cf285ac0>]\n"
     ]
    }
   ],
   "source": [
    "# eg12:查询位置小于3的标签\n",
    "li10 = html_tree.xpath('//li[position()<3]')\n",
    "print(li10)"
   ]
  },
  {
   "cell_type": "markdown",
   "id": "a2a7f4af",
   "metadata": {},
   "source": [
    "**知识点：** 一个列表中，分别对应第一、第二的位置为1、2，以此类推。`position()`可以得到它们的具体位置"
   ]
  },
  {
   "cell_type": "markdown",
   "id": "4a3e4c24",
   "metadata": {},
   "source": [
    "# 实战学习：房产网站爬取\n",
    "[目标网址:西安58同城-万科城一期](https://xa.58.com/ershoufang/?comm_id=844336&q=万科城%28一期%29)  \n",
    "选择‘检查’命令，查看网页代码--》可以看到信息放在一个列表list中  \n",
    "<img src='5.png' width='85%' height='85%'/>  \n",
    "可以看到，每一套房屋信息都在一个标签中，再细化分析，定位具体价格  \n",
    "定位标题时发现都在h3标签中，对应的class为`property-content-title-name`  \n",
    "<img src='6.png' width='85%' height='85%'/>"
   ]
  },
  {
   "cell_type": "code",
   "execution_count": 5,
   "id": "cdd50c06",
   "metadata": {
    "ExecuteTime": {
     "end_time": "2024-02-19T03:49:48.125010Z",
     "start_time": "2024-02-19T03:49:46.921894Z"
    },
    "scrolled": true
   },
   "outputs": [
    {
     "name": "stdout",
     "output_type": "stream",
     "text": [
      "二期 高楼层采光充足 产权清晰 小区新 带电梯 装修好　　　\t　　　　　总价格为：198万元\n",
      "南北通透 精装可拎包入住 有电梯 低密度社区 双卫 钥匙房　\t　　　　　总价格为：198万元\n",
      "理想　　　　　　　　　　　　　　　　　　　　　　　　　　　　\t　　　　　总价格为：159万元\n",
      "公寓住宅 3室2厅2卫 110m 朝南北　　　　　　　　　　\t　　　　　总价格为：207万元\n",
      "业主急售 　　　　　　　　　　　　　　　　　　　　　　　　　\t　　　　　总价格为：130万元\n",
      "好赞必看房 9成新南北通透   无忧 品牌家具家电 领包入住\t　　　　　总价格为：139万元\n",
      "(一期) 精装可拎包入住 带电梯 小区新 临地铁　　　　　　\t　　　　　总价格为：215万元\n",
      "主　　　　　　　　　　　　　　　　　　　　　　　　　　　　　\t　　　　　总价格为：134万元\n",
      "价格可谈 　　　　　　　　　　　　　　　　　　　　　　　　　\t　　　　　总价格为：165万元\n",
      "高楼层丨采光充足丨小三居丨小区绿化高丨板楼丨精装修丨商品房　\t　　　　　总价格为：170万元\n",
      "理想　　　　　　　　　　　　　　　　　　　　　　　　　　　　\t　　　　　总价格为：161万元\n",
      "龙湖云璟 尽享便捷优享双地铁三环内曲江东双地铁低密改善　　　\t　　　　　总价格为：225万元\n",
      "3号线地铁口 　　　　　　　　　　　　　　　　　　　　　　　\t　　　　　总价格为：158万元\n",
      "大学　　　　　　　　　　　　　　　　　　　　　　　　　　　　\t　　　　　总价格为：190万元\n",
      "双卫 精装好房 南北通透 房龄新 有电梯 超低密度　　　　　\t　　　　　总价格为：170万元\n",
      "交大旁新房双地铁兴庆公园旁准现房面积大小可选　　　　　　　　\t　　　　　总价格为：135万元\n",
      "买三室得四室 长安 　　　　　　　　　　　　　　　　　　　　\t　　　　　总价格为：226万元\n",
      "房龄新 带电梯 高楼层采光充足 南北通透 精装可拎包入住　　\t　　　　　总价格为：207万元\n",
      "满二双支标丨三室两卫丨全明边户丨中层采光好丨　　　　　　　　\t　　　　　总价格为：205万元\n",
      "西安2.5环，龙湖品质，特价13000多，110~196平米\t　　　　　总价格为：180万元\n",
      "洋房 三室 好户型 南北通透 满两年　　　　　　　　　　　　\t　　　　　总价格为：169万元\n",
      "理想　　　　　　　　　　　　　　　　　　　　　　　　　　　　\t　　　　　总价格为：165万元\n",
      "南北通透丨满二证在手丨　　　　　　　　　　　　　　　　　　　\t　　　　　总价格为：208万元\n",
      "主　　　　　　　　　　　　　　　　　　　　　　　　　　　　　\t　　　　　总价格为：164万元\n",
      "单价17000入住　　　　　　　　　　　　　　　　　　　　　\t　　　　　总价格为：136万元\n",
      "如园　　　　　　　　　　　　　　　　　　　　　　　　　　　　\t　　　　　总价格为：220万元\n",
      "太华北路 精装可拎包入住 医疗配套成熟 商业配套齐全 临地铁\t　　　　　总价格为：124万元\n",
      "东二环边 辛家庙地铁 五证齐全 开发商直售 品质三室 交通便\t　　　　　总价格为：136万元\n",
      "理想　　　　　　　　　　　　　　　　　　　　　　　　　　　　\t　　　　　总价格为：186万元\n",
      "带电梯 大两房 中间好楼层 小区新 满二 装修好 明厨明卫　\t　　　总价格为：128.8万元\n",
      "好赞好房 　　　　　　　　　　　　　　　　　　　　　　　　　\t　　　　　总价格为：105万元\n",
      "南芯 地铁口  配套全  电视塔 清凉寺公园　　　　　　　　\t　　　　　总价格为：158万元\n",
      "西长安街丨房龄新丨南北通透丨商品住宅丨电梯房丨板楼丨近地铁　\t　　　　　总价格为：141万元\n",
      "物业发布 　　　　　　　　　　　　　　　　　　　　　　　　　\t　　　　　总价格为：175万元\n",
      "房龄新 钥匙房 低密宜居 精装好房 满二 有电梯　　　　　　\t　　　　　总价格为：165万元\n",
      "西安　　　　　　　　　　　　　　　　　　　　　　　　　　　　\t　　　　　总价格为：168万元\n",
      "三室两厅 南北通透 刚需标配 　　　　　　　　　　　　　　　\t　　　　　总价格为：145万元\n",
      "(一期) 商品住宅 满二 电梯房 精装好房 小区绿化高　　　\t　　　　　总价格为：169万元\n",
      "满二 低容积 带电梯 精装可拎包入住 高楼层视野无遮挡　　　\t　　　　　总价格为：167万元\n",
      "太白南路吉祥村高性价比新房 不限 可随时看房 车接车送　　　\t　　　　　总价格为：177万元\n",
      "高楼层视野无遮挡 满二 南北通透 看房有钥匙 带电梯　　　　\t　　　　　总价格为：153万元\n",
      "(一期) 满二 近地铁 商品房 有电梯 环境好　　　　　　　\t　　　　　总价格为：168万元\n",
      "好赞好房 买3室得4室 　　　　　　　　　　　　　　　　　　\t　　　　　总价格为：166万元\n",
      "陆港铁一隔壁看房接送　　　　　　　　　　　　　　　　　　　　\t　　　　　总价格为：182万元\n",
      "满五   有电梯 近地铁 小三房 小区新 环境好 房东急置换\t　　　　　总价格为：165万元\n",
      "满二 电梯房 房龄新 装修好 居住密度低　　　　　　　　　　\t　　　　　总价格为：170万元\n",
      "大学　　　　　　　　　　　　　　　　　　　　　　　　　　　　\t　　　　　总价格为：176万元\n",
      "灞河边 河景房 占位奥体板块 水岸生活岸线 第四代住宅 铁一\t　　　　　总价格为：229万元\n",
      "中间楼层 南北通透 满二 装修好 低密度社区 楼龄新　　　　\t　　　　　总价格为：160万元\n",
      "小区新 电梯房 高楼层视野好 双卫格局 低密度社区 南北通透\t　　　　　总价格为：175万元\n",
      "一期 陕师大双标 中间楼层 采光视野好 有钥匙 随时看　　　\t　　　　　总价格为：172万元\n",
      "雁鸣湖 全新户型 河景美宅 环境优美　　　　　　　　　　　　\t　　　　　总价格为：254万元\n",
      "(一期) 房龄新 精装可拎包入住 有电梯 满二　　　　　　　\t　　　　　总价格为：170万元\n",
      "(一期) 带电梯 产权清晰 精装可拎包入住 临地铁　　　　　\t　　　　　总价格为：168万元\n",
      "满二 陕师大   中学 3室2厅 　　　　　　　　　　　　　\t　　　　　总价格为：179万元\n",
      "电视塔 地铁口 丈八东路 两室两厅 精装修 枫林一品 领包入\t　　　　　总价格为：142万元\n",
      "物业直售，买房七折，三室两厅一卫出售满二带63　　　　　　　\t　　　　　总价格为：173万元\n",
      "小区新 低容积 高楼层视野无遮挡 有电梯 南北通透 装修好　\t　　　　　总价格为：158万元\n",
      "(一期) 临地铁 小三居 朝南 环境优美  业主可翻新　　　\t　　　　　总价格为：165万元\n",
      "   精装修好  的项目　　　　　　　　　　　　　　　　　　\t　　　　　总价格为：125万元\n",
      "有电梯 密度低 中间楼层采光好 小区新 精装修 南北通透　　\t　　　　　总价格为：168万元\n",
      "3号线地铁口 　　　　　　　　　　　　　　　　　　　　　　　\t　　　　　总价格为：193万元\n",
      "精装可拎包入住 低容积 满二 小区新 南北通透 带电梯　　　\t　　　　　总价格为：175万元\n",
      "   首付   安家大西安 五证齐全 补贴月供　　　　　　　\t　　　　　总价格为：106万元\n",
      " 南北三室 带　　　　　　　　　　　　　　　　　　　　　　　\t　　　　　总价格为：165万元\n",
      "一期，首付36　　　　　　　　　　　　　　　　　　　　　　　\t　　　　　总价格为：162万元\n",
      "3号线地铁口 浐灞印象　　　　　　　　　　　　　　　　　　　\t　　　　　总价格为：163万元\n",
      "曲江南 航天芯 地铁口　　　　　　　　　　　　　　　　　　　\t　　　　　总价格为：257万元\n",
      "来卷　　　　　　　　　　　　　　　　　　　　　　　　　　　　\t　　　　　总价格为：170万元\n",
      "南北通透 采光好 视野好 长安区 郭杜 大学　　　　　　　　\t　　　　　总价格为：169万元\n",
      "采光中间层 　　　　　　　　　　　　　　　　　　　　　　　　\t　　　　　总价格为：170万元\n",
      "2号线地铁口 保利央企开发 一手新房南北通透 三室　　　　　\t　　　　　总价格为：173万元\n",
      "(必看好房 大学　　　　　　　　　　　　　　　　　　　　　　\t　　　　　总价格为：178万元\n",
      "精装好房 小区新 电梯房 满二   居住密度低　　　　　　　\t　　　　　总价格为：162万元\n",
      "3号线地铁口 浐灞印象　　　　　　　　　　　　　　　　　　　\t　　　　　总价格为：166万元\n",
      "8号线地铁口 国企开发 紧邻　　　　　　　　　　　　　　　　\t　　　　　总价格为：176万元\n",
      "高楼层视野好 电梯房 南北通透 有钥匙随时看房 超低密度　　\t　　　　　总价格为：177万元\n",
      "低密度社区 带电梯 精装可拎包入住 小区新 南北通透 钥匙房\t　　　　　总价格为：175万元\n",
      "丨板楼丨装修好丨临地铁丨带电梯丨商品房丨环境优美丨动静分离丨\t　　　　　总价格为：178万元\n",
      "现房发售，经发集团开发，三室两厅两卫　　　　　　　　　　　　\t　　　　　总价格为：175万元\n"
     ]
    }
   ],
   "source": [
    "from lxml import etree\n",
    "import requests\n",
    "\n",
    "headers = {\n",
    "    'User-Agent': 'Mozilla/5.0 (Windows NT 10.0; Win64; x64) AppleWebKit/537.36 (KHTML, like Gecko) Chrome/121.0.0.0 Safari/537.36 Edg/121.0.0.0'\n",
    "}\n",
    "url = 'https://xa.58.com/ershoufang/?q=%E4%B8%87%E7%A7%91%E5%9F%8E'\n",
    "# 请求获取代码\n",
    "page_text = requests.get(url=url,headers=headers).text\n",
    "# 标准化\n",
    "html_tree = etree.HTML(page_text)\n",
    "# print(etree.tostring(html_tree).decode('utf-8'))\n",
    "if __name__=='__main__':\n",
    "    div_list = html_tree.xpath('//section[@class=\"list\"]/div')\n",
    "    fp = open('.西安万科城二手房.txt','w',encoding='utf-8')\n",
    "    for div in div_list:\n",
    "        title = div.xpath('.//div[@class=\"property-content-title\"]/h3/text()')[0]\n",
    "#         print(title)\n",
    "        price = str('总价格为：'+ div.xpath('.//div[@class=\"property-price\"]/p/span[@class=\"property-price-total-num\"]/text()')[0])+'万元'\n",
    "#         print(price)\n",
    "#         fp.write(title + '\\t' + price + '\\n' + '\\n')\n",
    "        formatted_line = f'{title:{chr(12288)}<30}\\t{price:{chr(12288)}>15}'  # 对齐标题和价格\n",
    "        print(formatted_line)\n",
    "        fp.write(formatted_line + '\\n')\n",
    "    fp.close()"
   ]
  },
  {
   "cell_type": "markdown",
   "id": "1a52378c",
   "metadata": {},
   "source": [
    "另外一个例子：[北京58同城](https://bj.58.com/ershoufang)"
   ]
  },
  {
   "cell_type": "code",
   "execution_count": 6,
   "id": "77772a3b",
   "metadata": {
    "ExecuteTime": {
     "end_time": "2024-02-19T04:18:15.579103Z",
     "start_time": "2024-02-19T04:18:13.961527Z"
    },
    "scrolled": true
   },
   "outputs": [
    {
     "name": "stdout",
     "output_type": "stream",
     "text": [
      "双井 急售2居 首付167w 全屋采光 开阔无遮挡 看房随时 558\n",
      "新增！东三环 国贸 高层西向大两居 业主换房 方便看 599\n",
      "国风美唐，入门级两居，商五一，急售，8和13地铁旁，集中供暖 446\n",
      "地铁站300米（97平特价480萬）准现房，精装三居 605\n",
      "双井 东南2居 能大谈 可代350w 高层 视野开阔 国贸 520\n",
      "常营管庄热点小区南向两居好楼层可商贷 518\n",
      "新出！东三环独门独院，次顶层，采光时间长，商本，价格空间大 580\n",
      "中海城，2012年社区，西向2居，采光无遮挡，满五年，价可谈 489\n",
      "北京新天地五期 2室2厅 全南向 中楼层 精装修 中间位置 518\n",
      "下套成交房源！有钥匙随时看，业主已定房，急售！ 327\n",
      "东四环朝青板块  方正两居  客厅带落地飘窗阳台 满五年一套 525\n",
      "业主自住好房 户型方正保养好 中间楼层 视野开阔 349\n",
      "有钥匙 双井苹果社区南区 正规一居室 高层 户型方正 无浪费 415\n",
      "买房0.5，丰益东区，满五年，无遮挡，板楼电梯，西南两居 495\n",
      "业主自住装修 浅色调符合年轻人审美！玺源台 西城次新盘 湾子 698\n",
      "聚焦房源！中心位置，价格大谈，全明户型，拎包入住，近软件园 520\n",
      "业主已经订到房源 价格不是问题 只要你能看  详情可以联系 574\n",
      "龙腾南北两居，价格可大谈，首F140W，看房随时，急售 419\n",
      "交易有保单 安心购 无遮挡，有钥匙随时看可大聊 530\n",
      "新龙城M1户型，高楼层，近地铁 558\n",
      "收费0.1 交易有保单 板楼南北通透2居 带电梯，紧临地铁 480\n",
      "西山林语（必看好房）全南3居（博洛尼装修）价可大聊 580\n",
      "东四环 近七号线地铁口\n",
      " 保利精装三房 特价599w 667\n",
      "西南向一览无余  业主变现 空房方便看 随时可配合 615\n",
      "九龙花园 南北通透 商业配套成熟 大两居 近地铁 装修好 504\n",
      "总价低！看2.5万平园林，环境好 满五年一套  好位置好楼层 650\n",
      "东南两居，10号线双井九龙山，国贸一站地，步行200米三环 586\n",
      "出售海淀嘉郡，南北1层两居，没出租过，近北斗星通 399\n",
      "全南向小三居 大面宽 采光无遮挡 出让方便 548\n",
      "常营 六号线 北辰福第 无遮挡 满五年  可谈 445\n",
      "西园三区 南向2居  1梯3户 12层小板楼 650\n",
      "南湖中园一区 板楼南北两居室 满五   装修好 495\n",
      "性价比超高     两居 临河社区 靠近地铁 配套齐全 520\n",
      "丰台区太平桥太平桥西里2室1厅 390\n",
      "一层有院，子，价格可大，刀，怡兴园2室1厅 精装 430\n",
      "正看小区绿地 视野采光无遮挡 价格有惊喜 598\n",
      "马家堡角门东 板楼 南北通透3居中楼层 前后无遮挡 545\n",
      "收费 0.1！换房急售！南庭新苑北区 2室1厅 毛坯 有钥匙 305\n",
      "中信新城东区 南北通透三居室 装修好 549\n",
      "富力城D区 方正户型一居室 保养干净 目前空置 诚意出售 680\n",
      "新装修得南向2居 满五年电梯房 499\n",
      "7XX万，东三环，你心动吗 768\n",
      "交易有保单 安心购 必看好房 城市涧2室1厅 599\n",
      "煤炭大厦附近 东西通透带南窗正规三居室 有钥匙 410\n",
      "超大落地窗 视野开阔 活动区域大 708\n",
      "全网低价 南北双通透 原始地暖      445\n",
      "（有钥匙！次顶层！边户明卫！）润泽悦溪，一梯两户！ 718\n",
      "顶层，急售，首付低，户型方正，看房随时，价格可大谈 379\n",
      "（新出）有钥匙随时看 南北通透 一切皆可谈 美景东方 595\n",
      "永 嘉园 南北两居室 业主诚意出售 看房方便 305\n",
      "K2玉兰湾 次新房 精装修 安静不临街 人车分流 528\n",
      "园博嘉园 首付135W 精装两室 采光好无遮挡 业主诚售 449\n",
      "（经典小三居）南北通透！急售！有钥匙！紧邻10号线！ 860\n",
      "急售 双井国贸 纯南两居 中高层 采光视野好 799\n",
      "中海长安雅苑 中间好楼层 朝南两居 楼龄新 精装好房 405\n",
      "十里堡  双兴小区  2室  1厅 406\n",
      "新上急售！板楼南北两居，价格非常低！ 510\n",
      "新出 有钥匙 东南一居室 无遮挡视野开阔 业主急售 价格可谈 509\n",
      "（必看好房！）首 付 1 0 0 w！满五年一套！价格可谈！ 335\n",
      "都会华庭 两居室 无遮挡 园区性价比高 二次装修 观景   618\n",
      "地铁6号线700米，6至11层  洋房，人气不减，备受瞩目 572\n",
      "交易有保单 本期聚焦必看好房 角门东里 3居室 508\n",
      "免,收鲁谷路74号院 3室1厅 76.81平 475\n",
      "阳光花园2室1厅 精装 695\n",
      "三环刚需 车 正规两居 自带储物间 看房随时 使用空间大 395\n",
      "阳光上东 全南向一居室 采光日照充足 格局好无浪费面积可看房 749\n",
      "十里堡北里94年板楼，明厅，大客厅俩居室，高楼层业主诚心出售 319\n",
      "东四环朝青板块 东南向两居 高楼层观景兴隆公园 满五年   538\n",
      "富力又一城(C区) 商业配套成熟 交通便捷 板楼 带电梯 548\n",
      "东四环旁，楼层高，视野好，生活配套完善 530\n",
      "店长力荐 甲区 急售还能谈 性价比高 随时看房 超合适 429\n",
      "有钥匙随时看房！业主自住 保养好 高楼层 人车分流 园区安静 686\n",
      "朝青 兴隆家园 南北通透 自住两室 满五   诚意卖 随时看 430\n",
      "望京着急出售 2居室 电梯房 户型方正 470\n",
      "朝阳区双井百环家园3室1厅 740\n"
     ]
    }
   ],
   "source": [
    "import requests\n",
    "from lxml import etree\n",
    "headers = {\n",
    "    'User-Agent':'Mozilla/5.0 (Windows NT 10.0; Win64; x64) AppleWebKit/537.36 (KHTML, like Gecko) Chrome/121.0.0.0 Safari/537.36 Edg/121.0.0.0'\n",
    "}\n",
    "url = 'https://bj.58.com/ershoufang'\n",
    "page_text = requests.get(url=url,headers=headers).text\n",
    "html_tree = etree.HTML(page_text)\n",
    "title = html_tree.xpath('//h3[@class=\"property-content-title-name\"]/text()')\n",
    "price = html_tree.xpath('//span[@class=\"property-price-total-num\"]/text()')\n",
    "for i,j in zip(title,price):\n",
    "    print(i,j)"
   ]
  },
  {
   "cell_type": "markdown",
   "id": "cce8dd93",
   "metadata": {},
   "source": [
    "**注意：** 由于很多网站反爬能力特别强，会对IP进行限制，可以进行尝试代理IP，如果被反爬，得到的结果就是一个空列表"
   ]
  },
  {
   "cell_type": "markdown",
   "id": "4c4018f1",
   "metadata": {},
   "source": [
    "# 多线程爬虫\n",
    "当需要爬取的数据量比较大，且急需很快获取到数据的时候，可以考虑将单线程的爬虫写成多线程的爬虫"
   ]
  },
  {
   "cell_type": "markdown",
   "id": "21db0c4b",
   "metadata": {},
   "source": [
    "## 进程和线程\n",
    "进程：可以理解为是正在运行的程序的实例。  \n",
    "进程是拥有资源的独立单位，而线程不是独立的单位。  \n",
    "由于每一次调度进程的开销比较大，为此才引入线程。  \n",
    "一个进程可以拥有多个线程，一个进程中可以同时存在多个线程，这些线程共享该进程的资源，线程的切换消耗是很小的。  \n",
    "因此在操作系统中引入进程的目的是**更好地使多道程序并发执行，提高资源利用率和系统吞吐量**；  \n",
    "而引入线程的目的则是**减小程序在并发执行时所付出的时空开销，提高操作系统的并发性能。**"
   ]
  },
  {
   "cell_type": "markdown",
   "id": "850fdf26",
   "metadata": {},
   "source": [
    "## Python中的多线程与单线程\n",
    "一般来说，如果爬取的资源不是特别大，使用单线程即可。且在Python中，默认情况是单线程的----代码是按顺序依次运行的  \n",
    "`threading`模块是Python中专门用来做多线程编程的模块，它对`thread`进行了封装，使用更加方便"
   ]
  },
  {
   "cell_type": "code",
   "execution_count": 12,
   "id": "408fbf12",
   "metadata": {
    "ExecuteTime": {
     "end_time": "2024-02-19T09:08:39.166741Z",
     "start_time": "2024-02-19T09:08:36.153594Z"
    }
   },
   "outputs": [
    {
     "name": "stdout",
     "output_type": "stream",
     "text": [
      "0正在写代码\n",
      "\n",
      "0正在玩游戏\n",
      "\n",
      "1正在写代码\n",
      "1正在玩游戏\n",
      "\n",
      "\n",
      "2正在玩游戏\n",
      "\n",
      "2正在写代码\n",
      "\n",
      "总共运行时间：3.00631秒\n"
     ]
    }
   ],
   "source": [
    "# 例：需要对写代码和玩游戏两个事件使用多线程\n",
    "import threading \n",
    "import time\n",
    "# 定义第一个\n",
    "def coding():\n",
    "    for x in range(3):\n",
    "        print(\"%s正在写代码\\n\"%x)\n",
    "        time.sleep(1)\n",
    "# 定义第二个\n",
    "def playing():\n",
    "    for x in range(3):\n",
    "        print(\"%s正在玩游戏\\n\"%x)\n",
    "        time.sleep(1)\n",
    "# 如果使用多线程执行\n",
    "def multi_thread():\n",
    "    start = time.time()\n",
    "    # thread创建第一个线程，target参数为参数名\n",
    "    t1 = threading.Thread(target=coding)\n",
    "    t1.start()  # 启动线程\n",
    "    # 创建第二个线程\n",
    "    t2 = threading.Thread(target=playing)\n",
    "    t2.start()\n",
    "    # join确保thread子线程执行完毕后，才能执行下一个线程\n",
    "    t1.join()\n",
    "    t2.join()\n",
    "    end = time.time()\n",
    "    running_time = end - start\n",
    "    print('总共运行时间：%.5f秒'%running_time)\n",
    "# 执行\n",
    "if __name__=='__main__':\n",
    "    multi_thread()  # 执行单线程"
   ]
  },
  {
   "cell_type": "code",
   "execution_count": 18,
   "id": "2d997f2c",
   "metadata": {
    "ExecuteTime": {
     "end_time": "2024-02-19T09:19:31.371719Z",
     "start_time": "2024-02-19T09:19:25.362715Z"
    }
   },
   "outputs": [
    {
     "name": "stdout",
     "output_type": "stream",
     "text": [
      "0正在写代码\n",
      "\n",
      "1正在写代码\n",
      "\n",
      "2正在写代码\n",
      "\n",
      "0正在玩游戏\n",
      "\n",
      "1正在玩游戏\n",
      "\n",
      "2正在玩游戏\n",
      "\n",
      "总共运行时间：6.00339秒\n"
     ]
    }
   ],
   "source": [
    "# 单线程\n",
    "import time\n",
    "# 定义第一个\n",
    "def coding():\n",
    "    for x in range(3):\n",
    "        print(\"%s正在写代码\\n\"%x)\n",
    "        time.sleep(1)\n",
    "# 定义第二个\n",
    "def playing():\n",
    "    for x in range(3):\n",
    "        print(\"%s正在玩游戏\\n\"%x)\n",
    "        time.sleep(1)\n",
    "def single_thread():\n",
    "    start = time.time()\n",
    "    coding()\n",
    "    playing()\n",
    "    end = time.time()\n",
    "    running_time = end - start\n",
    "    print('总共运行时间：%.5f秒'% running_time)\n",
    "# 执行\n",
    "if __name__==\"__main__\":\n",
    "    single_thread()"
   ]
  },
  {
   "cell_type": "markdown",
   "id": "29550d15",
   "metadata": {},
   "source": [
    "**注：** 从时间上看，当执行工作量少时，单线程与多线程只有细微的区别，当执行工作量大的时候，使用多线程消耗的时间会更小"
   ]
  },
  {
   "cell_type": "markdown",
   "id": "8082df0c",
   "metadata": {},
   "source": [
    "## 单线程修改为多线程\n",
    "以某直播的图片爬取为例"
   ]
  },
  {
   "cell_type": "code",
   "execution_count": 33,
   "id": "40157e80",
   "metadata": {
    "ExecuteTime": {
     "end_time": "2024-02-19T10:14:35.979630Z",
     "start_time": "2024-02-19T10:14:35.953707Z"
    },
    "scrolled": true
   },
   "outputs": [
    {
     "ename": "TypeError",
     "evalue": "jiexi() missing 1 required positional argument: 'thread'",
     "output_type": "error",
     "traceback": [
      "\u001b[1;31m---------------------------------------------------------------------------\u001b[0m",
      "\u001b[1;31mTypeError\u001b[0m                                 Traceback (most recent call last)",
      "Cell \u001b[1;32mIn[33], line 36\u001b[0m\n\u001b[0;32m     33\u001b[0m         time\u001b[38;5;241m.\u001b[39msleep(\u001b[38;5;241m2\u001b[39m)\n\u001b[0;32m     35\u001b[0m \u001b[38;5;28;01mif\u001b[39;00m \u001b[38;5;18m__name__\u001b[39m\u001b[38;5;241m==\u001b[39m\u001b[38;5;124m'\u001b[39m\u001b[38;5;124m__main__\u001b[39m\u001b[38;5;124m'\u001b[39m:\n\u001b[1;32m---> 36\u001b[0m     jiexi()\n",
      "\u001b[1;31mTypeError\u001b[0m: jiexi() missing 1 required positional argument: 'thread'"
     ]
    }
   ],
   "source": [
    "import requests\n",
    "from lxml import etree\n",
    "import time\n",
    "import os\n",
    "\n",
    "dirpath = '图片/'\n",
    "if not os.path.exists(dirpath):\n",
    "    os.mkdir(dirpath)  # 创建文件夹\n",
    "    \n",
    "headers = {\n",
    "    'User-Agent':'Mozilla/5.0 (Windows NT 10.0; Win64; x64) AppleWebKit/537.36 (KHTML, like Gecko) Chrome/121.0.0.0 Safari/537.36 Edg/121.0.0.0'\n",
    "}\n",
    "\n",
    "def get_photo():\n",
    "    url = 'https://www.huya.com/g/100023'  # 目标网站\n",
    "    response = requests.get(url=url,headers=headers)  # 发送请求\n",
    "    data = etree.HTML(response.text)  # 转化为HTML格式\n",
    "    return data\n",
    "\n",
    "def jiexi():\n",
    "    data = get_photo()\n",
    "    image_url = data.xpath('//a//img//@data-original')\n",
    "    image_name = data.xpath('//a//img[@class=\"pic\"]//@alt')\n",
    "    for ur, name in zip(image_url, image_name):\n",
    "        url = ur.replace('?imageview/4/0/w/338/h/190/blur/1','')  #移除URL中不必要的部分\n",
    "        if not url.startswith('http'):\n",
    "            url = 'https:' + url  # 假设你想要使用 HTTPS 协议\n",
    "        title = name + '.jpg'\n",
    "        response = requests.get(url=url,headers=headers)  # 在此发送新的请求\n",
    "        with open(dirpath + title, 'wb') as f:\n",
    "            f.write(response.content)\n",
    "        print(\"下载成功：\"+name)\n",
    "        time.sleep(2)\n",
    "        \n",
    "if __name__=='__main__':\n",
    "    jiexi()"
   ]
  },
  {
   "cell_type": "markdown",
   "id": "42708bff",
   "metadata": {},
   "source": [
    "下改为多线程爬虫：(实践的结果有点奇怪，用时很长？？？)"
   ]
  },
  {
   "cell_type": "code",
   "execution_count": 42,
   "id": "48ea54c7",
   "metadata": {
    "ExecuteTime": {
     "end_time": "2024-02-19T12:36:14.560562Z",
     "start_time": "2024-02-19T12:31:23.489072Z"
    },
    "scrolled": true
   },
   "outputs": [
    {
     "name": "stdout",
     "output_type": "stream",
     "text": [
      "下载成功：Zz1tai姿态的直播\n",
      "下载成功：Uzi的直播\n",
      "下载成功：CSBOY的直播\n",
      "下载成功：kRYST4L的直播\n",
      "下载成功：DANK1NG的直播\n",
      "下载成功：神超的直播\n",
      "下载成功：虎牙英雄联盟赛事的直播\n",
      "下载成功：Chalice的直播\n",
      "下载成功：Maybeee111的直播\n",
      "下载成功：英雄联盟赛事副舞台的直播\n",
      "下载成功：AG宠儿的直播\n",
      "下载成功：瓦莉拉的直播\n",
      "下载成功：V1ncent丶文森特的直播\n",
      "下载成功：老中医的直播\n",
      "下载成功：老实人sask的直播\n",
      "下载成功：WE957的直播\n",
      "下载成功：未来运动会电竞主舞台的直播\n",
      "下载成功：天众丶桃子【K】的直播\n",
      "下载成功：傲辰-唐轩宇的直播\n",
      "下载成功：AzZ丶阿飞512的直播\n",
      "下载成功：聆听丶虎神的直播\n",
      "下载成功：依一【709】的直播\n",
      "下载成功：屿水吸血鬼的直播\n",
      "下载成功：微竞-叶神吸血鬼的直播\n",
      "下载成功：飞段的直播\n",
      "下载成功：女战神梧桐的直播\n",
      "下载成功：云彩上的翅膀的直播\n",
      "下载成功：Sccc丶的直播\n",
      "下载成功：春哥再就业的直播\n",
      "下载成功：WH-罗安琪【527】的直播\n",
      "下载成功：赏金术士的直播\n",
      "下载成功：是大蕊蕊呀的直播\n",
      "下载成功：MAX-小样儿的直播\n",
      "下载成功：GL学员-甜贝贝【天使】的直播\n",
      "下载成功：盛世-十四剑姬的直播\n",
      "下载成功：一只小糖宝丶的直播\n",
      "下载成功：烟雨丶文酱的直播\n",
      "下载成功：大熊小清新的直播\n",
      "下载成功：虎牙-烟雨妹的直播\n",
      "下载成功：乖的直播\n",
      "下载成功：Puff123的直播\n",
      "下载成功：小飞Lcr的直播\n",
      "下载成功：维妮-小狐狸的直播\n",
      "下载成功：久帝-周虎的直播\n",
      "下载成功：BTM-青柠的直播\n",
      "下载成功：仙女鹿【微胖战神】的直播\n",
      "下载成功：90121鬼虎的直播\n",
      "下载成功：MAX-卡美的直播\n",
      "下载成功：6341-闪亮的直播\n",
      "下载成功：三千丶新娘-53511的直播\n",
      "下载成功：零度-64g小狐仙的直播\n",
      "下载成功：烟雨-九引【9ing】的直播\n",
      "下载成功：盛世-莱昂凯SHYEARKMIU的直播\n",
      "下载成功：嘉泰-青甜的直播\n",
      "下载成功：高能-想里的直播\n",
      "下载成功：AH、肝帝的直播\n",
      "下载成功：nada的直播\n",
      "下载成功：解说元宝的直播\n",
      "下载成功：盛世-叫我久哥哥【GLZ】的直播\n",
      "下载成功：风华-文少蛮王的直播\n",
      "下载成功：奶粉的日常的直播\n",
      "下载成功：WH-炫炫宝宝的直播\n",
      "下载成功：OBG-汤圆的直播\n",
      "下载成功：天众丶军爷的直播\n",
      "下载成功：AH丶晓风的直播\n",
      "下载成功：plAnet林灏的直播\n",
      "下载成功：WY-仙女澜的直播\n",
      "下载成功：白鲨浩南的直播\n",
      "下载成功：泡芙养成记的直播\n",
      "下载成功：汐汐y的直播\n",
      "下载成功：欢乐丶刘的直播\n",
      "下载成功：小洁丶ayz的直播\n",
      "下载成功：天梦-木兮的直播\n",
      "下载成功：AH丶D狂叔的直播\n",
      "下载成功：小猪仔ovo的直播\n",
      "下载成功：AHD丶海绵的直播\n",
      "下载成功：言中鹤-鹿可爱的直播\n",
      "下载成功：寒千落丶的直播\n",
      "下载成功：Baolan的直播\n",
      "下载成功：无敌蓝微微的直播\n",
      "下载成功：LY丶沈若微的直播\n",
      "下载成功：天众丶陈狗蛋的直播\n",
      "下载成功：WY-小敏的直播\n",
      "下载成功：QQ飞车小涛的直播\n",
      "下载成功：Plu三炮的直播\n",
      "下载成功：三笠-小姨妈ovo的直播\n",
      "下载成功：rita。的直播\n",
      "下载成功：AH丶小古子的直播\n",
      "下载成功：零度-心梦语的直播\n",
      "下载成功：烟雨丶大叔拉克丝的直播\n",
      "下载成功：AG苏苏-的直播\n",
      "下载成功：三峡-沐瑶的直播\n",
      "下载成功：阿辉【问道】的直播\n",
      "下载成功：WY-佳七的直播\n",
      "下载成功：周予柠的直播\n",
      "下载成功：岁月-云神的直播\n",
      "下载成功：西门剑姬丶的直播\n",
      "下载成功：蓝天-小雅雅子的直播\n",
      "下载成功：AH丶2菟的直播\n",
      "下载成功：虎牙丶熊王c的直播\n",
      "下载成功：奶神ovo的直播\n",
      "下载成功：BTM-小尤妹妹的直播\n",
      "下载成功：XQ丶小安妮的直播\n",
      "下载成功：零度-宁宁的直播\n",
      "下载成功：AH丶苏姗的直播\n",
      "下载成功：宋暖暖-的直播\n",
      "下载成功：陈皮小可爱的直播\n",
      "下载成功：星耀丶小茜儿的直播\n",
      "下载成功：盛世-宝贝妞的直播\n",
      "下载成功：盛世-元气兔兔的直播\n",
      "下载成功：AH丶苏澈的直播\n",
      "下载成功：高能--淘七七丶的直播\n",
      "下载成功：烟雨丶灵酱i的直播\n",
      "下载成功：BTM-芸汐的直播\n",
      "下载成功：蓝天-小复的直播\n",
      "下载成功：DNF腾飞网游-账号推荐的直播\n",
      "下载成功：风华-SLZED的直播\n",
      "下载成功：熊熊抽抽的直播\n",
      "下载成功：FR---心---的直播\n",
      "下载成功：QG-安颜吖的直播\n",
      "下载成功：小熊【问道】的直播\n",
      "下载成功：BTM-小朵sara的直播\n",
      "下载成功：盛世-纪小鹿【526】的直播\n",
      "下载成功：盛世-豚豚大魔王【努力】的直播\n",
      "总共消耗时间：291.05784秒\n",
      "全部完成！\n"
     ]
    }
   ],
   "source": [
    "import requests\n",
    "from lxml import etree\n",
    "import threading\n",
    "import time\n",
    "import os\n",
    "\n",
    "dirpath = '图片/'\n",
    "if not os.path.exists(dirpath):\n",
    "    os.mkdir(dirpath)  # 创建文件夹\n",
    "    \n",
    "headers = {\n",
    "    'User-Agent':'Mozilla/5.0 (Windows NT 10.0; Win64; x64) AppleWebKit/537.36 (KHTML, like Gecko) Chrome/121.0.0.0 Safari/537.36 Edg/121.0.0.0'\n",
    "}\n",
    "\n",
    "# 全局变量用于存储已下载的图片链接\n",
    "downloaded_images = []\n",
    "\n",
    "def get_photo():\n",
    "    url = 'https://www.huya.com/g/100023'  # 目标网站\n",
    "    response = requests.get(url=url,headers=headers)  # 发送请求\n",
    "    data = etree.HTML(response.text)  # 转化为HTML格式\n",
    "    return data\n",
    "\n",
    "def jiexi():\n",
    "    data = get_photo()\n",
    "    image_url = data.xpath('//a//img//@data-original')\n",
    "    image_name = data.xpath('//a//img[@class=\"pic\"]//@alt')\n",
    "    for ur, name in zip(image_url, image_name):\n",
    "        url = ur.replace('?imageview/4/0/w/338/h/190/blur/1','')  #移除URL中不必要的部分\n",
    "        if not url.startswith('http'):\n",
    "            url = 'https:' + url  # 假设你想要使用 HTTPS 协议\n",
    "        title = name + '.jpg'\n",
    "        if title in downloaded_images:\n",
    "            continue\n",
    "        else:\n",
    "            downloaded_images.append(title)\n",
    "        response = requests.get(url=url,headers=headers)  # 在此发送新的请求\n",
    "        with open(dirpath + title, 'wb') as f:\n",
    "            f.write(response.content)\n",
    "        print(\"下载成功：\"+name)\n",
    "        time.sleep(2)\n",
    "\n",
    "if __name__=='__main__':\n",
    "    threads = []\n",
    "    start = time.time()\n",
    "    # 创建四个线程\n",
    "    for i in range(1, 5):\n",
    "        thread = threading.Thread(target=jiexi(),args=(i,)) \n",
    "        threads.append(thread)\n",
    "        thread.start()\n",
    "    for thread in threads:\n",
    "        thread.join()\n",
    "    end = time.time()\n",
    "    running_time = end - start\n",
    "    print('总共消耗时间：%.5f秒'% running_time)\n",
    "    print(\"全部完成！\")"
   ]
  },
  {
   "cell_type": "markdown",
   "id": "a9e292d5",
   "metadata": {},
   "source": [
    "# 作业习题\n",
    "使用Xpath爬取以下网址中的图片：[站长素材](https://sc.chinaz.com/tupian/fengjing.html)"
   ]
  },
  {
   "cell_type": "code",
   "execution_count": 65,
   "id": "78222aef",
   "metadata": {
    "ExecuteTime": {
     "end_time": "2024-02-19T16:14:18.906904Z",
     "start_time": "2024-02-19T16:14:14.850189Z"
    },
    "scrolled": true
   },
   "outputs": [
    {
     "name": "stdout",
     "output_type": "stream",
     "text": [
      "下载图片1.jpg成功！\n",
      "下载图片2.jpg成功！\n",
      "下载图片3.jpg成功！\n",
      "下载图片4.jpg成功！\n",
      "下载图片5.jpg成功！\n",
      "下载图片6.jpg成功！\n",
      "下载图片7.jpg成功！\n",
      "下载图片8.jpg成功！\n",
      "下载图片9.jpg成功！\n",
      "下载图片10.jpg成功！\n",
      "下载图片11.jpg成功！\n",
      "下载图片12.jpg成功！\n",
      "下载图片13.jpg成功！\n",
      "下载图片14.jpg成功！\n",
      "下载图片15.jpg成功！\n",
      "下载图片16.jpg成功！\n",
      "下载图片17.jpg成功！\n",
      "下载图片18.jpg成功！\n",
      "下载图片19.jpg成功！\n",
      "下载图片20.jpg成功！\n",
      "下载图片21.jpg成功！\n",
      "下载图片22.jpg成功！\n",
      "下载图片23.jpg成功！\n",
      "下载图片24.jpg成功！\n",
      "下载图片25.jpg成功！\n",
      "下载图片26.jpg成功！\n",
      "下载图片27.jpg成功！\n",
      "下载图片28.jpg成功！\n",
      "下载图片29.jpg成功！\n",
      "下载图片30.jpg成功！\n",
      "下载图片31.jpg成功！\n",
      "下载图片32.jpg成功！\n",
      "下载图片33.jpg成功！\n",
      "下载图片34.jpg成功！\n",
      "下载图片35.jpg成功！\n",
      "下载图片36.jpg成功！\n",
      "下载图片37.jpg成功！\n",
      "下载图片38.jpg成功！\n",
      "下载图片39.jpg成功！\n",
      "下载图片40.jpg成功！\n"
     ]
    }
   ],
   "source": [
    "import requests\n",
    "from lxml import etree\n",
    "import urllib.request\n",
    "import os\n",
    "\n",
    "# 创建名为 \"photo\" 的文件夹\n",
    "if not os.path.exists('./photo'):\n",
    "    os.mkdir('./photo')\n",
    "\n",
    "url = 'https://sc.chinaz.com/tupian/fengjing.html'\n",
    "headers = {\n",
    "    'User-Agent':'Mozilla/5.0 (Windows NT 10.0; Win64; x64) AppleWebKit/537.36 (KHTML, like Gecko) Chrome/121.0.0.0 Safari/537.36 Edg/121.0.0.0'\n",
    "}\n",
    "\n",
    "response = requests.get(url=url,headers=headers)\n",
    "response.encoding = 'utf-8'\n",
    "html = response.text\n",
    "html_tree = etree.HTML(html)\n",
    "# print(etree.tostring(html_tree, pretty_print=True, encoding='gbk').decode('gbk'))\n",
    "src = html_etree.xpath('//div[@class=\"item\"]/img/@data-original')\n",
    "# print(src)\n",
    "i = 1\n",
    "for img_url in src:\n",
    "    name = str(i) + '.jpg'\n",
    "    u = \"https:\" + img_url\n",
    "    i = i + 1\n",
    "    urllib.request.urlretrieve(u, filename='./photo/%s'% (name))  # urlretrieve将指定的 URL 表示的网络对象复制到本地文件\n",
    "    # 上一行代码会将从 u 指定的 URL 下载的图片保存到本地文件夹中，文件名为 name\n",
    "    print(\"下载图片%s成功！\"% (name))"
   ]
  },
  {
   "cell_type": "code",
   "execution_count": 74,
   "id": "d0d0f2dc",
   "metadata": {
    "ExecuteTime": {
     "end_time": "2024-02-19T16:38:07.246714Z",
     "start_time": "2024-02-19T16:38:04.968206Z"
    },
    "scrolled": true
   },
   "outputs": [
    {
     "name": "stdout",
     "output_type": "stream",
     "text": [
      "请输入开始页码：1\n",
      "请输入结束页码：1\n",
      "第1页开始下载······\n"
     ]
    },
    {
     "ename": "AttributeError",
     "evalue": "'Response' object has no attribute 'read'",
     "output_type": "error",
     "traceback": [
      "\u001b[1;31m---------------------------------------------------------------------------\u001b[0m",
      "\u001b[1;31mAttributeError\u001b[0m                            Traceback (most recent call last)",
      "Cell \u001b[1;32mIn[74], line 58\u001b[0m\n\u001b[0;32m     56\u001b[0m content \u001b[38;5;241m=\u001b[39m response\u001b[38;5;241m.\u001b[39mtext\n\u001b[0;32m     57\u001b[0m \u001b[38;5;66;03m# 解析内容\u001b[39;00m\n\u001b[1;32m---> 58\u001b[0m jiexi(content)\n\u001b[0;32m     59\u001b[0m time\u001b[38;5;241m.\u001b[39msleep(\u001b[38;5;241m5\u001b[39m)  \u001b[38;5;66;03m# 避免被反爬，不能爬太快\u001b[39;00m\n\u001b[0;32m     60\u001b[0m \u001b[38;5;28mprint\u001b[39m(\u001b[38;5;124m\"\u001b[39m\u001b[38;5;124m第\u001b[39m\u001b[38;5;132;01m%s\u001b[39;00m\u001b[38;5;124m页下载完毕······\u001b[39m\u001b[38;5;124m\"\u001b[39m \u001b[38;5;241m%\u001b[39m page)\n",
      "Cell \u001b[1;32mIn[74], line 43\u001b[0m, in \u001b[0;36mjiexi\u001b[1;34m(content)\u001b[0m\n\u001b[0;32m     41\u001b[0m \u001b[38;5;28;01mfor\u001b[39;00m image_src \u001b[38;5;129;01min\u001b[39;00m image_list:\n\u001b[0;32m     42\u001b[0m     image_src \u001b[38;5;241m=\u001b[39m \u001b[38;5;124m'\u001b[39m\u001b[38;5;124mhttp:\u001b[39m\u001b[38;5;124m'\u001b[39m \u001b[38;5;241m+\u001b[39m image_src\n\u001b[1;32m---> 43\u001b[0m     download(image_src)\n",
      "Cell \u001b[1;32mIn[74], line 33\u001b[0m, in \u001b[0;36mdownload\u001b[1;34m(image_src)\u001b[0m\n\u001b[0;32m     31\u001b[0m response \u001b[38;5;241m=\u001b[39m requests\u001b[38;5;241m.\u001b[39mget(url\u001b[38;5;241m=\u001b[39mimage_src, headers\u001b[38;5;241m=\u001b[39mheaders)\n\u001b[0;32m     32\u001b[0m \u001b[38;5;28;01mwith\u001b[39;00m \u001b[38;5;28mopen\u001b[39m(filepath, \u001b[38;5;124m'\u001b[39m\u001b[38;5;124mwb\u001b[39m\u001b[38;5;124m'\u001b[39m) \u001b[38;5;28;01mas\u001b[39;00m fp:\n\u001b[1;32m---> 33\u001b[0m     fp\u001b[38;5;241m.\u001b[39mwrite(response\u001b[38;5;241m.\u001b[39mread())\n",
      "\u001b[1;31mAttributeError\u001b[0m: 'Response' object has no attribute 'read'"
     ]
    }
   ],
   "source": [
    "# 多页下载\n",
    "\n",
    "# ！！！！！！！！！！以下代码有问题\n",
    "\n",
    "import urllib.parse\n",
    "import urllib.request\n",
    "import requests\n",
    "from lxml import etree\n",
    "import time\n",
    "import os\n",
    "\n",
    "headers = {\n",
    "        'User-Agent': 'Mozilla/5.0 (Windows NT 10.0; Win64; x64) AppleWebKit/537.36 (KHTML, like Gecko) Chrome/121.0.0.0 Safari/537.36 Edg/121.0.0.0',\n",
    "    }\n",
    "\n",
    "def qingqiu(url, page):\n",
    "    if page == 1:\n",
    "        url = url.format('')  # 填写空\n",
    "    else:\n",
    "        url = url.format('_' + str(page))  # 填写下划线加页码\n",
    "    response = requests.get(url=url,headers=headers)\n",
    "    return response\n",
    "\n",
    "\n",
    "def download(image_src):\n",
    "    # 创建名为 \"photo\" 的文件夹\n",
    "    if not os.path.exists('./Photo'):\n",
    "        os.mkdir('./Photo')\n",
    "    # 创建文件名\n",
    "    filename = os.path.basename(image_src)\n",
    "    # 图片路径\n",
    "    filepath = os.path.join(dirpath, filename)\n",
    "    # 发送请求，保存图片\n",
    "    response = requests.get(url=image_src, headers=headers)\n",
    "    with open(filepath, 'wb') as fp:\n",
    "        fp.write(response.read())\n",
    "\n",
    "\n",
    "def jiexi(content):\n",
    "    # 生成对象\n",
    "    tree = etree.HTML(content)\n",
    "    image_list = tree.xpath('//div[@class=\"item\"]/img/@data-original')\n",
    "    # 遍历列表，依次下载图片\n",
    "    for image_src in image_list:\n",
    "        image_src = 'http:' + image_src\n",
    "        download(image_src)\n",
    "\n",
    "\n",
    "if __name__ == \"__main__\":\n",
    "    url = 'https://sc.chinaz.com/tupian/taikongkexuetupian{}.html'\n",
    "\n",
    "    start_page = int(input(\"请输入开始页码：\"))\n",
    "    end_page = int(input(\"请输入结束页码：\"))\n",
    "\n",
    "    for page in range(start_page, end_page + 1):\n",
    "        print(\"第%s页开始下载······\" % page)\n",
    "        response = qingqiu(url, page)\n",
    "        response.encoding = 'utf-8'\n",
    "        content = response.text\n",
    "        # 解析内容\n",
    "        jiexi(content)\n",
    "        time.sleep(5)  # 避免被反爬，不能爬太快\n",
    "        print(\"第%s页下载完毕······\" % page)\n",
    "    print(\"下载完成！\")"
   ]
  },
  {
   "cell_type": "code",
   "execution_count": 105,
   "id": "15825205",
   "metadata": {
    "ExecuteTime": {
     "end_time": "2024-02-19T17:26:24.592001Z",
     "start_time": "2024-02-19T17:25:18.156489Z"
    }
   },
   "outputs": [
    {
     "name": "stdout",
     "output_type": "stream",
     "text": [
      "请输入开始页码：2\n",
      "请输入结束页码：4\n",
      "第2页开始下载······\n",
      "第2页下载完毕······\n",
      "第3页开始下载······\n",
      "第3页下载完毕······\n",
      "第4页开始下载······\n",
      "第4页下载完毕······\n",
      "下载完成！\n"
     ]
    }
   ],
   "source": [
    "import requests\n",
    "from lxml import etree\n",
    "import time\n",
    "import os\n",
    "\n",
    "dirpath = '图片Photo/'\n",
    "if not os.path.exists(dirpath):\n",
    "    os.mkdir(dirpath)  # 创建文件夹\n",
    "        \n",
    "base_url = 'https://sc.chinaz.com/tupian/taikongkexuetupian{}.html'\n",
    "\n",
    "start_page = int(input(\"请输入开始页码：\"))\n",
    "end_page = int(input(\"请输入结束页码：\"))\n",
    "headers = {\n",
    "        'User-Agent': 'Mozilla/5.0 (Windows NT 10.0; Win64; x64) AppleWebKit/537.36 (KHTML, like Gecko) Chrome/121.0.0.0 Safari/537.36 Edg/121.0.0.0',\n",
    "    }\n",
    "for page in range(start_page, end_page+1):\n",
    "    print(\"第%s页开始下载······\" % page)\n",
    "    if page == 1:\n",
    "        url = base_url.format('')  # 填写空\n",
    "    else:\n",
    "        url = base_url.format('_' + str(page))  # 填写下划线加页码\n",
    "        \n",
    "    response = requests.get(url=url,headers=headers)\n",
    "    response.encoding = 'utf-8'\n",
    "    html = response.text\n",
    "    html_tree = etree.HTML(html)\n",
    "#     print(tree.tostring(html_tree, pretty_print=True, encoding='gbk').decode('gbk'))\n",
    "    image_list = html_tree.xpath('//div[@class=\"item\"]/img/@data-original')\n",
    "    image_name = html_tree.xpath('//div[@class=\"item\"]/img/@alt')\n",
    "#     print(image_list)\n",
    "#     print(image_name)\n",
    "\n",
    "    for url, name in zip(image_list, image_name):\n",
    "        if not url.startswith('http'):\n",
    "            url = 'https:' + url\n",
    "        title = name + '.jpg'\n",
    "        response = requests.get(url=url,headers=headers)  # 在此发送新的请求\n",
    "        with open(dirpath + title, 'wb') as f:\n",
    "            f.write(response.content)\n",
    "        time.sleep(0.15)\n",
    "    time.sleep(5)  # 避免被反爬，不能爬太快\n",
    "    print(\"第%s页下载完毕······\" % page)\n",
    "print(\"下载完成！\")"
   ]
  }
 ],
 "metadata": {
  "kernelspec": {
   "display_name": "Python 3 (ipykernel)",
   "language": "python",
   "name": "python3"
  },
  "language_info": {
   "codemirror_mode": {
    "name": "ipython",
    "version": 3
   },
   "file_extension": ".py",
   "mimetype": "text/x-python",
   "name": "python",
   "nbconvert_exporter": "python",
   "pygments_lexer": "ipython3",
   "version": "3.11.5"
  },
  "toc": {
   "base_numbering": 1,
   "nav_menu": {},
   "number_sections": true,
   "sideBar": true,
   "skip_h1_title": false,
   "title_cell": "Table of Contents",
   "title_sidebar": "Contents",
   "toc_cell": false,
   "toc_position": {
    "height": "calc(100% - 180px)",
    "left": "10px",
    "top": "150px",
    "width": "300.521px"
   },
   "toc_section_display": true,
   "toc_window_display": true
  },
  "varInspector": {
   "cols": {
    "lenName": 16,
    "lenType": 16,
    "lenVar": 40
   },
   "kernels_config": {
    "python": {
     "delete_cmd_postfix": "",
     "delete_cmd_prefix": "del ",
     "library": "var_list.py",
     "varRefreshCmd": "print(var_dic_list())"
    },
    "r": {
     "delete_cmd_postfix": ") ",
     "delete_cmd_prefix": "rm(",
     "library": "var_list.r",
     "varRefreshCmd": "cat(var_dic_list()) "
    }
   },
   "types_to_exclude": [
    "module",
    "function",
    "builtin_function_or_method",
    "instance",
    "_Feature"
   ],
   "window_display": false
  }
 },
 "nbformat": 4,
 "nbformat_minor": 5
}
