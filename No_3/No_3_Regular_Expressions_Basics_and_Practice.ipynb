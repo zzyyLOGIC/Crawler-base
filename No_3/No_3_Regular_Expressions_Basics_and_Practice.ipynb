{
 "cells": [
  {
   "cell_type": "markdown",
   "id": "d480ac65",
   "metadata": {},
   "source": [
    "# 正则表达式的定义\n",
    "简介：正则表达式，又称规则表达式,（Regular Expression，在代码中常简写为regex、regexp或RE），是一种文本模式，包括普通字符（例如，a 到 z 之间的字母）和特殊字符（称为\"元字符\"），是计算机科学的一个概念。正则表达式使用单个字符串来描述、匹配一系列匹配某个句法规则的字符串，通常被用来检索、替换那些符合某个模式（规则）的文本。  \n",
    "Python中有一个内置包re，可以用于处理正则表达式，导入命令`import re`。"
   ]
  },
  {
   "cell_type": "markdown",
   "id": "1da2bee6",
   "metadata": {},
   "source": [
    "# Python中的正则表达式"
   ]
  },
  {
   "cell_type": "code",
   "execution_count": 1,
   "id": "d5b85d34",
   "metadata": {
    "ExecuteTime": {
     "end_time": "2024-02-15T02:18:52.267078Z",
     "start_time": "2024-02-15T02:18:52.261599Z"
    }
   },
   "outputs": [
    {
     "name": "stdout",
     "output_type": "stream",
     "text": [
      "<re.Match object; span=(0, 19), match='hello,python,I love'>\n",
      "匹配成功!\n"
     ]
    }
   ],
   "source": [
    "import re\n",
    "txt = \"hello,python,I love you\"\n",
    "x = re.search(\"^^hello.*love\",txt)\n",
    "print(x)\n",
    "if x:\n",
    "    print(\"匹配成功!\")\n",
    "else:\n",
    "    print(\"匹配失败！\")"
   ]
  },
  {
   "cell_type": "markdown",
   "id": "ffafde00",
   "metadata": {},
   "source": [
    "| 常见的匹配规则：\n",
    "- `\\b`:匹配空字符串，但只在单词开始或结尾位置  \n",
    "- `\\B`:匹配空字符串，但不能在单词开始或者结尾位置  \n",
    "- `\\d`:匹配任何数字符，等价于`[0-9]`  \n",
    "- `\\D`:匹配任何非数字字符，等价于`[^0-9]`\n",
    "- `\\s`:匹配任何空白字符，等价于`[\\t \\n \\r \\f \\v]`  \n",
    "- `\\S`:匹配任何非空白字符，等价于`[^\\t \\n \\r \\f \\v]`  \n",
    "- `\\w`:匹配任何字母与数字字符，等价于`[A-Z a-z 0-9]`  \n",
    "- `\\W`:匹配任何非字母与数字字符，等价于`[^A-Z a-z 0-9]`\n",
    "- `\\t`:匹配一个制表符  \n",
    "- `\\n`:匹配一个特殊换行符  \n",
    "\n",
    "| 常见的特殊匹配字符：  \n",
    "- `.`(点):匹配除了换行的任意字符\n",
    "- `^`(插入符号):匹配字符串的开头\n",
    "- `$`:匹配字符串结尾或者字符串结尾换行符前的一个字符   \n",
    "- `*`:对它前面的正则表达式匹配0到任意次，尽量多匹配字符串  \n",
    "- `+`:对它前面的正则表达式匹配0到任意次  \n",
    "- `?`:对他前面的正则表达式匹配0-1次 `ab?`会匹配a或者ab，非贪婪模式  \n",
    "- `<.*>`:贪婪模式，尽可能多匹配，比如`<a>b<c>`会匹配整个字符串  \n",
    "- `<.*?>`:非贪婪模式，尽量少匹配，比如`<a>b<c>`只会匹配`< >`  \n",
    "- `{m}`:对其之前的正则表达式指定匹配m个字符少于m个就会导致匹配失败。比如b{5}将匹配5个b，但是不能是四个  \n",
    "- `{m,n}`:贪婪匹配模式，对正则表达式进行m-n次匹配，在m和n之间取尽量多，即n。逗号不能省略，否则无法识别修饰符边界  \n",
    "- `{m,n}?`:非贪婪匹配模式，与上一个相反  "
   ]
  },
  {
   "cell_type": "markdown",
   "id": "cf554a11",
   "metadata": {},
   "source": [
    "# 正则表达式函数\n",
    "## findall()函数\n",
    "`re.findall()`函数返回一个包含所有匹配项的列表。从左到右扫描字符串，并安找到的顺序返回匹配项"
   ]
  },
  {
   "cell_type": "code",
   "execution_count": 2,
   "id": "5dfaa778",
   "metadata": {
    "ExecuteTime": {
     "end_time": "2024-02-15T02:48:01.077562Z",
     "start_time": "2024-02-15T02:48:01.072535Z"
    }
   },
   "outputs": [
    {
     "name": "stdout",
     "output_type": "stream",
     "text": [
      "['我爱', '我爱', '我爱']\n"
     ]
    }
   ],
   "source": [
    "import re\n",
    "txt = \"我爱python，我爱学习，我爱自己\"\n",
    "x = re.findall(\"我爱\",txt)\n",
    "print(x)"
   ]
  },
  {
   "cell_type": "code",
   "execution_count": 3,
   "id": "ba05edf5",
   "metadata": {
    "ExecuteTime": {
     "end_time": "2024-02-15T02:50:36.272778Z",
     "start_time": "2024-02-15T02:50:36.265896Z"
    }
   },
   "outputs": [
    {
     "name": "stdout",
     "output_type": "stream",
     "text": [
      "[]\n",
      "匹配失败！\n"
     ]
    }
   ],
   "source": [
    "# 若未找到匹配项，则返回一个空列表\n",
    "import re\n",
    "txt = \"网络爬虫\"\n",
    "x = re.findall(\"python\",txt)\n",
    "print(x)\n",
    "if x:\n",
    "    print(\"匹配成功！\")\n",
    "else:\n",
    "    print(\"匹配失败！\")"
   ]
  },
  {
   "cell_type": "code",
   "execution_count": 4,
   "id": "1210be19",
   "metadata": {
    "ExecuteTime": {
     "end_time": "2024-02-15T03:03:39.727454Z",
     "start_time": "2024-02-15T03:03:39.722048Z"
    }
   },
   "outputs": [
    {
     "name": "stdout",
     "output_type": "stream",
     "text": [
      "['pyword', 'python']\n",
      "匹配成功！\n"
     ]
    }
   ],
   "source": [
    "import re\n",
    "x = re.findall(r'p[a-z]*','hello pyword,I love python')  # p[a-z]:匹配p以及后面的字符，然后添加*表示尽量匹配多的字符\n",
    "print(x)\n",
    "if(x):\n",
    "    print(\"匹配成功！\")\n",
    "else:\n",
    "    print(\"匹配失败！\")"
   ]
  },
  {
   "cell_type": "code",
   "execution_count": 5,
   "id": "59134141",
   "metadata": {
    "ExecuteTime": {
     "end_time": "2024-02-15T03:08:50.509615Z",
     "start_time": "2024-02-15T03:08:50.504088Z"
    }
   },
   "outputs": [
    {
     "name": "stdout",
     "output_type": "stream",
     "text": [
      "[('age', '20'), ('ID', '12306')]\n"
     ]
    }
   ],
   "source": [
    "import re\n",
    "# \\W 匹配任何非字母与数字字符； \\d 匹配整数； \\+ 匹配1到任意次\n",
    "x = re.findall(r'(\\w+)=(\\d+)',\"my age=20 and ID=12306\")\n",
    "print(x)"
   ]
  },
  {
   "cell_type": "markdown",
   "id": "629cdb41",
   "metadata": {},
   "source": [
    "## search()函数\n",
    "`re.search()`函数表示在字符串中搜索匹配项，如果有，返回一个Match对象，如果有多个，则只返回匹配项中第一次出现的"
   ]
  },
  {
   "cell_type": "code",
   "execution_count": 17,
   "id": "81cb345e",
   "metadata": {
    "ExecuteTime": {
     "end_time": "2024-02-15T03:20:02.991291Z",
     "start_time": "2024-02-15T03:20:02.988182Z"
    }
   },
   "outputs": [
    {
     "name": "stdout",
     "output_type": "stream",
     "text": [
      "第一个空格字符位于位置： 3\n"
     ]
    }
   ],
   "source": [
    "import re \n",
    "txt = \"这就是 快 乐 吗？\"\n",
    "x = re.search(\"\\s\",txt)\n",
    "print(\"第一个空格字符位于位置：\",x.start())"
   ]
  },
  {
   "cell_type": "markdown",
   "id": "11548f2c",
   "metadata": {},
   "source": [
    "若未找到，则返回None"
   ]
  },
  {
   "cell_type": "code",
   "execution_count": 19,
   "id": "2ec35318",
   "metadata": {
    "ExecuteTime": {
     "end_time": "2024-02-15T03:21:24.393636Z",
     "start_time": "2024-02-15T03:21:24.389748Z"
    }
   },
   "outputs": [
    {
     "name": "stdout",
     "output_type": "stream",
     "text": [
      "None\n"
     ]
    }
   ],
   "source": [
    "import re\n",
    "txt = \"人生苦短\"\n",
    "x = re.search(\"python\",txt)\n",
    "print(x)"
   ]
  },
  {
   "cell_type": "code",
   "execution_count": 21,
   "id": "702d2480",
   "metadata": {
    "ExecuteTime": {
     "end_time": "2024-02-15T03:25:56.378587Z",
     "start_time": "2024-02-15T03:25:56.374376Z"
    }
   },
   "outputs": [
    {
     "name": "stdout",
     "output_type": "stream",
     "text": [
      "匹配成功：  python\n"
     ]
    }
   ],
   "source": [
    "import re\n",
    "str = 'so love python!!!!!'\n",
    "match = re.search(r'\\s\\w\\w\\w\\w\\w\\w',str)  # “空白字符 字母或数字*6”\n",
    "if match:\n",
    "    print(\"匹配成功：\",match.group())  # 返回对象使用group()函数进行输出\n",
    "else:\n",
    "    print(\"匹配失败！\")"
   ]
  },
  {
   "cell_type": "code",
   "execution_count": 23,
   "id": "185e0717",
   "metadata": {
    "ExecuteTime": {
     "end_time": "2024-02-15T03:30:22.598324Z",
     "start_time": "2024-02-15T03:30:22.594619Z"
    }
   },
   "outputs": [
    {
     "name": "stdout",
     "output_type": "stream",
     "text": [
      "ing\n",
      "du\n"
     ]
    }
   ],
   "source": [
    "import re\n",
    "match = re.search(r'..g','bing')  # 除了换行的任意字符*2 g\n",
    "match2 = re.search(r'du','baidu')\n",
    "print(match.group())\n",
    "print(match2.group())"
   ]
  },
  {
   "cell_type": "markdown",
   "id": "04993c68",
   "metadata": {},
   "source": [
    "## split()函数\n",
    "`re.split()`返回一个列表，其中字符串在每次匹配中被拆分"
   ]
  },
  {
   "cell_type": "code",
   "execution_count": 25,
   "id": "b6f9d4e9",
   "metadata": {
    "ExecuteTime": {
     "end_time": "2024-02-15T03:32:31.653183Z",
     "start_time": "2024-02-15T03:32:31.649173Z"
    }
   },
   "outputs": [
    {
     "name": "stdout",
     "output_type": "stream",
     "text": [
      "['人生苦短', '我爱Python']\n"
     ]
    }
   ],
   "source": [
    "import re\n",
    "txt = \"人生苦短 我爱Python\"\n",
    "x = re.split(\"\\s\",txt)\n",
    "print(x)"
   ]
  },
  {
   "cell_type": "markdown",
   "id": "ee57659b",
   "metadata": {},
   "source": [
    "还可以通过指定`maxsplit`参数来控制分割次数"
   ]
  },
  {
   "cell_type": "code",
   "execution_count": 27,
   "id": "b1de1f06",
   "metadata": {
    "ExecuteTime": {
     "end_time": "2024-02-15T03:34:35.109581Z",
     "start_time": "2024-02-15T03:34:35.106431Z"
    }
   },
   "outputs": [
    {
     "name": "stdout",
     "output_type": "stream",
     "text": [
      "['一花', '一世界', '一生 只想你']\n"
     ]
    }
   ],
   "source": [
    "import re\n",
    "txt = \"一花 一世界 一生 只想你\"\n",
    "x = re.split('\\s',txt,2)\n",
    "print(x)"
   ]
  },
  {
   "cell_type": "code",
   "execution_count": 28,
   "id": "42a8e543",
   "metadata": {
    "ExecuteTime": {
     "end_time": "2024-02-15T03:36:12.398817Z",
     "start_time": "2024-02-15T03:36:12.395369Z"
    }
   },
   "outputs": [
    {
     "name": "stdout",
     "output_type": "stream",
     "text": [
      "['how', 'are', 'you']\n",
      "['你好', '在干嘛呢']\n"
     ]
    }
   ],
   "source": [
    "import re\n",
    "txt = \"how,are,you\"\n",
    "txt2 = \"你好,在干嘛呢\"\n",
    "x = re.split(r'\\W+',txt)  # 任何非字母与数字字符 匹配0到任意次\n",
    "y = re.split(r'\\W+',txt2)\n",
    "print(x)\n",
    "print(y)"
   ]
  },
  {
   "cell_type": "markdown",
   "id": "d9784bc7",
   "metadata": {},
   "source": [
    "## sub()函数\n",
    "`re.sub()`函数原来替换匹配项"
   ]
  },
  {
   "cell_type": "code",
   "execution_count": 29,
   "id": "0f0f1a3e",
   "metadata": {
    "ExecuteTime": {
     "end_time": "2024-02-15T03:48:53.393502Z",
     "start_time": "2024-02-15T03:48:53.389945Z"
    }
   },
   "outputs": [
    {
     "name": "stdout",
     "output_type": "stream",
     "text": [
      "Hello world\n"
     ]
    }
   ],
   "source": [
    "import re\n",
    "txt = \"hello world\"\n",
    "x = re.sub('h','H',txt)\n",
    "print(x)"
   ]
  },
  {
   "cell_type": "markdown",
   "id": "c329bc84",
   "metadata": {},
   "source": [
    "还可以通过指定`count`参数来控制替换次数"
   ]
  },
  {
   "cell_type": "code",
   "execution_count": 30,
   "id": "7e018b51",
   "metadata": {
    "ExecuteTime": {
     "end_time": "2024-02-15T03:50:25.529157Z",
     "start_time": "2024-02-15T03:50:25.525395Z"
    }
   },
   "outputs": [
    {
     "name": "stdout",
     "output_type": "stream",
     "text": [
      "Hello world,Hello Python,hello c++\n"
     ]
    }
   ],
   "source": [
    "import re\n",
    "txt = \"hello world,hello Python,hello c++\"\n",
    "x = re.sub('h','H',txt,2)\n",
    "print(x)"
   ]
  },
  {
   "cell_type": "markdown",
   "id": "16cfa127",
   "metadata": {},
   "source": [
    "## compile()函数\n",
    "`re.compile()`函数可以将字符串编译成正则表达式的模式对象"
   ]
  },
  {
   "cell_type": "code",
   "execution_count": 32,
   "id": "0261ab54",
   "metadata": {
    "ExecuteTime": {
     "end_time": "2024-02-15T04:07:14.505142Z",
     "start_time": "2024-02-15T04:07:14.502249Z"
    }
   },
   "outputs": [
    {
     "name": "stdout",
     "output_type": "stream",
     "text": [
      "['h', 'e', 'l', 'l', 'h']\n"
     ]
    }
   ],
   "source": [
    "import re\n",
    "p = re.compile('[a-l]')\n",
    "print(p.findall(\"hello,Python\"))"
   ]
  },
  {
   "cell_type": "code",
   "execution_count": 33,
   "id": "9564cfa4",
   "metadata": {
    "ExecuteTime": {
     "end_time": "2024-02-15T04:08:45.470348Z",
     "start_time": "2024-02-15T04:08:45.466852Z"
    }
   },
   "outputs": [
    {
     "name": "stdout",
     "output_type": "stream",
     "text": [
      "['2', '2']\n",
      "['2', '0', '2', '4']\n"
     ]
    }
   ],
   "source": [
    "import re\n",
    "p = re.compile('\\d')\n",
    "print(p.findall('my age is 22'))\n",
    "print(p.findall(\"The year is 2024\"))"
   ]
  },
  {
   "cell_type": "markdown",
   "id": "b6eb885a",
   "metadata": {},
   "source": [
    "修饰符用于一些限制的控制，它是re.compile()函数中的一个可选参数，常用修饰如下：  \n",
    "1. `re.I`:忽略大小写  \n",
    "2. `re.S`匹配包括换行符在内的任意字符  \n",
    "- 注意：特别是在网页匹配中，`re.S`尤为常用，因为结点之间经常会有换行"
   ]
  },
  {
   "cell_type": "markdown",
   "id": "4a118eb7",
   "metadata": {},
   "source": [
    "# 特殊字符的使用\n",
    "## 列表符\n",
    "`[]`用于一组字符，例如：`[abc]`将匹配任何单个a、b或c。还可以使用方括号内的“-”指定字符范围。eg:  \n",
    "1. `[0,4]`与`[01234]`相同  \n",
    "2. `[a-c]`与`[abc]`相同  \n",
    "还可以使用插入符号`^`反转字符\n",
    "3. `[^0-3]`表示除0、1、2、3以外的任何数字  \n",
    "4. `[^a-c]`表示除a、b、c之外的任何字符  "
   ]
  },
  {
   "cell_type": "code",
   "execution_count": 35,
   "id": "3267cac5",
   "metadata": {
    "ExecuteTime": {
     "end_time": "2024-02-15T09:10:19.390460Z",
     "start_time": "2024-02-15T09:10:19.386159Z"
    }
   },
   "outputs": [
    {
     "name": "stdout",
     "output_type": "stream",
     "text": [
      "['h', 'e', 'l', 'l', 'h', 'h', 'h', 'h']\n"
     ]
    }
   ],
   "source": [
    "import re\n",
    "txt = \"hello zyhzyhzyhzyh\"\n",
    "x = re.findall(\"[a-m]\",txt)\n",
    "print(x)"
   ]
  },
  {
   "cell_type": "code",
   "execution_count": 36,
   "id": "c0ca0a70",
   "metadata": {
    "ExecuteTime": {
     "end_time": "2024-02-15T09:16:07.424680Z",
     "start_time": "2024-02-15T09:16:07.420631Z"
    }
   },
   "outputs": [
    {
     "name": "stdout",
     "output_type": "stream",
     "text": [
      "2395606216@qq.com\n"
     ]
    }
   ],
   "source": [
    "str = '2395606216@qq.com'\n",
    "match = re.search(r'[\\w]+@[\\w.]+',str)\n",
    "# 其中 [\\w]+ 表示一个或多个字母、数字或下划线，@ 表示字面上的“@”符号，[\\w.]+ 表示一个或多个字母、数字、下划线或句点（用于域名部分）\n",
    "if match:\n",
    "    print(match.group())"
   ]
  },
  {
   "cell_type": "markdown",
   "id": "5e9c70b8",
   "metadata": {},
   "source": [
    "## 点符号\n",
    "点符号可以匹配任何字符（换行符除外）"
   ]
  },
  {
   "cell_type": "code",
   "execution_count": 37,
   "id": "92d5186e",
   "metadata": {
    "ExecuteTime": {
     "end_time": "2024-02-15T09:19:10.453730Z",
     "start_time": "2024-02-15T09:19:10.450449Z"
    }
   },
   "outputs": [
    {
     "name": "stdout",
     "output_type": "stream",
     "text": [
      "['hello']\n"
     ]
    }
   ],
   "source": [
    "import re\n",
    "txt = \"hello world\"\n",
    "x = re.findall(\"he..o\",txt)\n",
    "print(x)"
   ]
  },
  {
   "cell_type": "markdown",
   "id": "828c588b",
   "metadata": {},
   "source": [
    "## 开始符和结束符\n",
    "开始符`^`用于匹配字符的开始"
   ]
  },
  {
   "cell_type": "code",
   "execution_count": 39,
   "id": "08ac5007",
   "metadata": {
    "ExecuteTime": {
     "end_time": "2024-02-15T09:21:26.666857Z",
     "start_time": "2024-02-15T09:21:26.662871Z"
    }
   },
   "outputs": [
    {
     "name": "stdout",
     "output_type": "stream",
     "text": [
      "['h']\n",
      "匹配成功！\n"
     ]
    }
   ],
   "source": [
    "import re\n",
    "txt = 'helloPython'\n",
    "x = re.findall('^h+',txt)\n",
    "print(x)\n",
    "if x:\n",
    "    print(\"匹配成功！\")\n",
    "else:\n",
    "    print(\"匹配失败！\")"
   ]
  },
  {
   "cell_type": "markdown",
   "id": "d83e7e54",
   "metadata": {},
   "source": [
    "结束符`$`用于匹配字符串的结尾"
   ]
  },
  {
   "cell_type": "code",
   "execution_count": 40,
   "id": "8b082de6",
   "metadata": {
    "ExecuteTime": {
     "end_time": "2024-02-15T09:25:40.216245Z",
     "start_time": "2024-02-15T09:25:40.212194Z"
    }
   },
   "outputs": [
    {
     "name": "stdout",
     "output_type": "stream",
     "text": [
      "['world']\n",
      "匹配成功！\n"
     ]
    }
   ],
   "source": [
    "import re\n",
    "txt = 'hello world'\n",
    "x = re.findall(\"world$\",txt)\n",
    "print(x)\n",
    "if x:\n",
    "    print(\"匹配成功！\")\n",
    "else:\n",
    "    print(\"匹配失败！\")"
   ]
  },
  {
   "cell_type": "markdown",
   "id": "885fc6c6",
   "metadata": {},
   "source": [
    "## 星号\n",
    "星号符`*`会对它前面的正则表达式匹配0到任意次，尽量多匹配字符"
   ]
  },
  {
   "cell_type": "code",
   "execution_count": 41,
   "id": "b31538e3",
   "metadata": {
    "ExecuteTime": {
     "end_time": "2024-02-15T09:28:19.461555Z",
     "start_time": "2024-02-15T09:28:19.457602Z"
    }
   },
   "outputs": [
    {
     "name": "stdout",
     "output_type": "stream",
     "text": [
      "['菜鸟', '菜鸟']\n",
      "匹配成功！\n"
     ]
    }
   ],
   "source": [
    "import re\n",
    "txt = \"菜鸟张三说自己总有一天不会是菜鸟\"\n",
    "x = re.findall(\"菜鸟*\",txt)\n",
    "print(x)\n",
    "if x:\n",
    "    print(\"匹配成功！\")\n",
    "else:\n",
    "    print(\"匹配失败!\")"
   ]
  },
  {
   "cell_type": "markdown",
   "id": "4ff62c79",
   "metadata": {},
   "source": [
    "## 加号\n",
    "加号`+`会对它前面的正则表达式匹配1到任意次"
   ]
  },
  {
   "cell_type": "code",
   "execution_count": 42,
   "id": "764e1744",
   "metadata": {
    "ExecuteTime": {
     "end_time": "2024-02-15T09:35:45.245215Z",
     "start_time": "2024-02-15T09:35:45.242070Z"
    }
   },
   "outputs": [
    {
     "name": "stdout",
     "output_type": "stream",
     "text": [
      "['word']\n",
      "匹配成功！\n"
     ]
    }
   ],
   "source": [
    "import re\n",
    "txt = \"hello world,word will be better\"\n",
    "x = re.findall('word+',txt)\n",
    "print(x)\n",
    "if x:\n",
    "    print(\"匹配成功！\")\n",
    "else:\n",
    "    print(\"匹配失败！\")"
   ]
  },
  {
   "cell_type": "markdown",
   "id": "1e753a7e",
   "metadata": {},
   "source": [
    "## 集合符号\n",
    "集合符号`{}`用于匹配恰好出现的次数"
   ]
  },
  {
   "cell_type": "code",
   "execution_count": 43,
   "id": "da06ecd3",
   "metadata": {
    "ExecuteTime": {
     "end_time": "2024-02-15T09:38:43.157524Z",
     "start_time": "2024-02-15T09:38:43.153514Z"
    }
   },
   "outputs": [
    {
     "name": "stdout",
     "output_type": "stream",
     "text": [
      "['yy']\n",
      "匹配成功！\n"
     ]
    }
   ],
   "source": [
    "import re\n",
    "txt = \"zzyy爱python！\"\n",
    "x = re.findall('y{2}',txt)\n",
    "print(x)\n",
    "if x:\n",
    "    print(\"匹配成功！\")\n",
    "else:\n",
    "    print(\"匹配失败！\")"
   ]
  },
  {
   "cell_type": "markdown",
   "id": "400ddb81",
   "metadata": {},
   "source": [
    "## 或符号\n",
    "或符号`|`表示两者匹配任意一个就算成功，如果都被匹配到，则都会被返回"
   ]
  },
  {
   "cell_type": "code",
   "execution_count": 44,
   "id": "1ecbe4ac",
   "metadata": {
    "ExecuteTime": {
     "end_time": "2024-02-15T09:41:20.588524Z",
     "start_time": "2024-02-15T09:41:20.583690Z"
    }
   },
   "outputs": [
    {
     "name": "stdout",
     "output_type": "stream",
     "text": [
      "['吃饭', '睡觉']\n",
      "匹配成功！\n"
     ]
    }
   ],
   "source": [
    "import re\n",
    "txt = \"zy在吃饭或者睡觉\"\n",
    "x = re.findall(\"吃饭|睡觉|打游戏\",txt)\n",
    "print(x)\n",
    "if x:\n",
    "    print(\"匹配成功！\")\n",
    "else:\n",
    "    print(\"匹配成功！\")"
   ]
  },
  {
   "cell_type": "markdown",
   "id": "dfc21071",
   "metadata": {},
   "source": [
    "# 特殊序列\n",
    "## 匹配指定字符\n",
    "`\\A`表示如果指定的字符位于字符串的开头，则返回匹配项"
   ]
  },
  {
   "cell_type": "code",
   "execution_count": 45,
   "id": "658cf387",
   "metadata": {
    "ExecuteTime": {
     "end_time": "2024-02-15T10:01:38.188371Z",
     "start_time": "2024-02-15T10:01:38.184484Z"
    }
   },
   "outputs": [
    {
     "name": "stdout",
     "output_type": "stream",
     "text": [
      "['world']\n"
     ]
    }
   ],
   "source": [
    "import re\n",
    "txt = 'world will be better'\n",
    "x = re.findall('\\Aworld',txt)\n",
    "print(x)"
   ]
  },
  {
   "cell_type": "markdown",
   "id": "78e63b49",
   "metadata": {},
   "source": [
    "## 匹配开头、结尾和中间\n",
    "`\\b`表示返回指定字符位于字符串开头或结尾的匹配项（开头加的r是为了确保字符串为原始字符串）"
   ]
  },
  {
   "cell_type": "code",
   "execution_count": 47,
   "id": "60b0e0f7",
   "metadata": {
    "ExecuteTime": {
     "end_time": "2024-02-15T10:07:59.888042Z",
     "start_time": "2024-02-15T10:07:59.883382Z"
    }
   },
   "outputs": [
    {
     "name": "stdout",
     "output_type": "stream",
     "text": [
      "[] ['学习'] ['我']\n"
     ]
    }
   ],
   "source": [
    "# 匹配开头\n",
    "import re\n",
    "txt = \"我爱学习，学习爱我\"\n",
    "x = re.findall(r'\\b爱',txt)\n",
    "y = re.findall(r'\\b学习',txt)\n",
    "z = re.findall(r'\\b我',txt)\n",
    "print(x,y,z)"
   ]
  },
  {
   "cell_type": "code",
   "execution_count": 48,
   "id": "58ea7195",
   "metadata": {
    "ExecuteTime": {
     "end_time": "2024-02-15T10:12:46.689125Z",
     "start_time": "2024-02-15T10:12:46.684586Z"
    }
   },
   "outputs": [
    {
     "name": "stdout",
     "output_type": "stream",
     "text": [
      "['python'] []\n"
     ]
    }
   ],
   "source": [
    "# 匹配结尾\n",
    "import re\n",
    "txt = \"zy很爱学习，热爱python\"\n",
    "x = re.findall(r'python\\b',txt)\n",
    "y = re.findall(r'热爱\\b',txt)\n",
    "print(x,y)"
   ]
  },
  {
   "cell_type": "markdown",
   "id": "c3593c45",
   "metadata": {},
   "source": [
    "`\\B`表示返回存在指定字符但不在字符串开头或者结尾的匹配项，即中间"
   ]
  },
  {
   "cell_type": "code",
   "execution_count": 50,
   "id": "4ade3a44",
   "metadata": {
    "ExecuteTime": {
     "end_time": "2024-02-15T10:14:57.739868Z",
     "start_time": "2024-02-15T10:14:57.736011Z"
    }
   },
   "outputs": [
    {
     "name": "stdout",
     "output_type": "stream",
     "text": [
      "['菜鸟']\n"
     ]
    }
   ],
   "source": [
    "import re\n",
    "txt = \"我不是菜鸟cainiao，他才是菜鸟\"\n",
    "x = re.findall(r'菜鸟\\B',txt)\n",
    "print(x)"
   ]
  },
  {
   "cell_type": "markdown",
   "id": "8acfc580",
   "metadata": {},
   "source": [
    "##  匹配数字与非数字\n",
    "`\\d`表示匹配字符串中包含数字（0~9）的匹配项"
   ]
  },
  {
   "cell_type": "code",
   "execution_count": 51,
   "id": "b1fba93f",
   "metadata": {
    "ExecuteTime": {
     "end_time": "2024-02-15T10:20:00.969226Z",
     "start_time": "2024-02-15T10:20:00.965930Z"
    }
   },
   "outputs": [
    {
     "name": "stdout",
     "output_type": "stream",
     "text": [
      "['20', '25']\n"
     ]
    }
   ],
   "source": [
    "import re\n",
    "txt = \"张三今年20岁，小明今年25岁\"\n",
    "x = re.findall(\"\\d+\",txt)\n",
    "print(x)"
   ]
  },
  {
   "cell_type": "markdown",
   "id": "1069f42e",
   "metadata": {},
   "source": [
    "`\\D`表示匹配字符串中不包含数字的匹配项"
   ]
  },
  {
   "cell_type": "code",
   "execution_count": 52,
   "id": "4f40bf3d",
   "metadata": {
    "ExecuteTime": {
     "end_time": "2024-02-15T10:22:00.624889Z",
     "start_time": "2024-02-15T10:22:00.621691Z"
    }
   },
   "outputs": [
    {
     "name": "stdout",
     "output_type": "stream",
     "text": [
      "['张', '三', '今', '年', '岁', '，', '小', '明', '今', '年', '岁'] ['张三今年', '岁，小明今年', '岁']\n"
     ]
    }
   ],
   "source": [
    "import re\n",
    "txt = \"张三今年20岁，小明今年25岁\"\n",
    "x = re.findall(\"\\D\",txt)\n",
    "y = re.findall(\"\\D+\",txt)\n",
    "print(x,y)"
   ]
  },
  {
   "cell_type": "markdown",
   "id": "c8f9f15b",
   "metadata": {},
   "source": [
    "## 空格和非空格匹配\n",
    "`\\s`用于匹配字符串包含的空格"
   ]
  },
  {
   "cell_type": "code",
   "execution_count": 53,
   "id": "e211ac5a",
   "metadata": {
    "ExecuteTime": {
     "end_time": "2024-02-15T10:25:24.802082Z",
     "start_time": "2024-02-15T10:25:24.798804Z"
    }
   },
   "outputs": [
    {
     "name": "stdout",
     "output_type": "stream",
     "text": [
      "[' ', ' ']\n"
     ]
    }
   ],
   "source": [
    "import re\n",
    "txt = \"我 是 张三\"\n",
    "# 匹配任何空格字符\n",
    "x = re.findall('\\s',txt)\n",
    "print(x)"
   ]
  },
  {
   "cell_type": "markdown",
   "id": "165cdfa2",
   "metadata": {},
   "source": [
    "`\\S`表示返回字符串不包含空格字符的匹配项"
   ]
  },
  {
   "cell_type": "code",
   "execution_count": 55,
   "id": "ed723854",
   "metadata": {
    "ExecuteTime": {
     "end_time": "2024-02-15T10:27:36.669544Z",
     "start_time": "2024-02-15T10:27:36.664867Z"
    }
   },
   "outputs": [
    {
     "name": "stdout",
     "output_type": "stream",
     "text": [
      "['张', '三', '说', '他', '在', '边', '吃', '饭', '边', '打', '游', '戏'] ['张三说', '他在边吃饭', '边打游戏']\n"
     ]
    }
   ],
   "source": [
    "import re\n",
    "txt = \"张三说 他在边吃饭 边打游戏\"\n",
    "# 匹配任意非空格字符\n",
    "x = re.findall('\\S',txt)\n",
    "y = re.findall('\\S+',txt)\n",
    "print(x,y)"
   ]
  },
  {
   "cell_type": "markdown",
   "id": "ad76ff76",
   "metadata": {},
   "source": [
    "## 数字与字母的匹配\n",
    "`\\w`表示匹配任何字母和数字字符，返回字符串包含的任何单词字符（如`a~z`、`A~Z`、`0~9`以及下划线`_`）"
   ]
  },
  {
   "cell_type": "code",
   "execution_count": 58,
   "id": "c2925cb2",
   "metadata": {
    "ExecuteTime": {
     "end_time": "2024-02-15T10:31:40.525654Z",
     "start_time": "2024-02-15T10:31:40.522325Z"
    }
   },
   "outputs": [
    {
     "name": "stdout",
     "output_type": "stream",
     "text": [
      "['张', '三', '爱', '吃', '土', '豆', '西', '红', '柿'] ['张三爱吃土豆西红柿']\n"
     ]
    }
   ],
   "source": [
    "import re\n",
    "txt = \"张三爱吃土豆西红柿\"\n",
    "x = re.findall('\\w',txt)\n",
    "y = re.findall('\\w+',txt)\n",
    "print(x,y)"
   ]
  },
  {
   "cell_type": "markdown",
   "id": "d7f2453a",
   "metadata": {},
   "source": [
    "`\\W`匹配任意非数字和字母字符，返回字符串不包含任何单词字符的匹配项"
   ]
  },
  {
   "cell_type": "code",
   "execution_count": 59,
   "id": "bdfb035b",
   "metadata": {
    "ExecuteTime": {
     "end_time": "2024-02-15T10:33:22.272349Z",
     "start_time": "2024-02-15T10:33:22.268712Z"
    }
   },
   "outputs": [
    {
     "name": "stdout",
     "output_type": "stream",
     "text": [
      "['!', ' ', \"'\", ' ', ' ', '?']\n"
     ]
    }
   ],
   "source": [
    "import re\n",
    "txt = \"hello! what's your name?\"\n",
    "x = re.findall('\\W',txt)\n",
    "print(x)"
   ]
  },
  {
   "cell_type": "markdown",
   "id": "600229b6",
   "metadata": {},
   "source": [
    "## 贪婪模式与非贪婪模式\n",
    "如果用`.*`去匹配，会发现整个字符串都会被匹配到"
   ]
  },
  {
   "cell_type": "code",
   "execution_count": 60,
   "id": "e0727c38",
   "metadata": {
    "ExecuteTime": {
     "end_time": "2024-02-15T11:16:49.425515Z",
     "start_time": "2024-02-15T11:16:49.422071Z"
    }
   },
   "outputs": [
    {
     "name": "stdout",
     "output_type": "stream",
     "text": [
      "<b>hello</b><i>world</i>\n"
     ]
    }
   ],
   "source": [
    "import re\n",
    "txt = '<b>hello</b><i>world</i>'\n",
    "x = re.match(r'.*',txt)\n",
    "print(x.group())"
   ]
  },
  {
   "cell_type": "markdown",
   "id": "3f525871",
   "metadata": {},
   "source": [
    "点`.`表示贪婪模式，这时候需要添加一个限制，可以在通用匹配后面加`？`等符号，使其改为非贪婪方式匹配  \n",
    "简单地说，使用`.*?`匹配到的是第一个符合条件的字符，后续即使有符合条件的字符，也不会被匹配进来"
   ]
  },
  {
   "cell_type": "code",
   "execution_count": 62,
   "id": "cfe78e4d",
   "metadata": {
    "ExecuteTime": {
     "end_time": "2024-02-15T11:30:03.341081Z",
     "start_time": "2024-02-15T11:30:03.336607Z"
    }
   },
   "outputs": [
    {
     "name": "stdout",
     "output_type": "stream",
     "text": [
      "<b>\n"
     ]
    }
   ],
   "source": [
    "## 通用匹配\n",
    "import re\n",
    "txt = '<b>hello</b><i>world</i>'\n",
    "x = re.match(r'(<.*?>)',txt)\n",
    "print(x.group())"
   ]
  },
  {
   "cell_type": "code",
   "execution_count": 66,
   "id": "30ef9e0c",
   "metadata": {
    "ExecuteTime": {
     "end_time": "2024-02-15T11:32:45.336902Z",
     "start_time": "2024-02-15T11:32:45.332875Z"
    }
   },
   "outputs": [
    {
     "name": "stdout",
     "output_type": "stream",
     "text": [
      "<re.Match object; span=(0, 32), match='<div>test1</div><div>test2</div>'>\n",
      "<re.Match object; span=(0, 16), match='<div>test1</div>'>\n"
     ]
    }
   ],
   "source": [
    "import re\n",
    "txt = '<div>test1</div><div>test2</div>'\n",
    "x = re.match('<div>.*</div>',txt)\n",
    "y = re.match('<div>.*?</div>',txt)\n",
    "print(x)\n",
    "print(y)"
   ]
  },
  {
   "cell_type": "markdown",
   "id": "15374e8e",
   "metadata": {},
   "source": [
    "# 集合练习"
   ]
  },
  {
   "cell_type": "markdown",
   "id": "46b1e0a5",
   "metadata": {},
   "source": [
    "## 指定的符合匹配"
   ]
  },
  {
   "cell_type": "code",
   "execution_count": 68,
   "id": "421e049c",
   "metadata": {
    "ExecuteTime": {
     "end_time": "2024-02-15T11:34:52.336715Z",
     "start_time": "2024-02-15T11:34:52.333672Z"
    }
   },
   "outputs": [
    {
     "name": "stdout",
     "output_type": "stream",
     "text": [
      "['l', 'p', 'n']\n"
     ]
    }
   ],
   "source": [
    "# 匹配指定符合lpn\n",
    "import re\n",
    "txt = \"I love python\"\n",
    "x = re.findall('[lpn]',txt)\n",
    "print(x)"
   ]
  },
  {
   "cell_type": "markdown",
   "id": "b7f32433",
   "metadata": {},
   "source": [
    "## 匹配任意范围内的小写字母"
   ]
  },
  {
   "cell_type": "code",
   "execution_count": 69,
   "id": "cd5de727",
   "metadata": {
    "ExecuteTime": {
     "end_time": "2024-02-15T11:37:57.291685Z",
     "start_time": "2024-02-15T11:37:57.288206Z"
    }
   },
   "outputs": [
    {
     "name": "stdout",
     "output_type": "stream",
     "text": [
      "['h', 'e', 'l', 'l', 'l', 'd']\n"
     ]
    }
   ],
   "source": [
    "# 返回任何小写字母的匹配项[a-n]\n",
    "import re\n",
    "txt = \"hello world\"\n",
    "x = re.findall('[a-n]',txt)\n",
    "print(x)"
   ]
  },
  {
   "cell_type": "markdown",
   "id": "d1f3c71f",
   "metadata": {},
   "source": [
    "其他情况举例如下：  \n",
    "* `[^lpn]`:返回除了l、p和n之外的任何字符的匹配项  \n",
    "* `[0123]`:返回指定数字（0、1、2、3）的匹配项  \n",
    "* `[0-9]`:返回0-9任意数字的匹配项  \n",
    "* `[a-zA-Z]`:按字母顺序返回a-z任何字母的匹配项，包括大小写  \n",
    "* `[+]`:在集合中，`+ * . | ( ) $ { }`没有特殊意义，返回字符串中任意`+`字符的匹配项  "
   ]
  },
  {
   "cell_type": "code",
   "execution_count": 70,
   "id": "c5b9ac6b",
   "metadata": {
    "ExecuteTime": {
     "end_time": "2024-02-15T14:21:05.045781Z",
     "start_time": "2024-02-15T14:21:05.041832Z"
    }
   },
   "outputs": [
    {
     "name": "stdout",
     "output_type": "stream",
     "text": [
      "['+']\n"
     ]
    }
   ],
   "source": [
    "import re\n",
    "txt = \"5+6=11\"\n",
    "# 检查字符串中是否包含+字符\n",
    "x = re.findall('[+]',txt)\n",
    "print(x)"
   ]
  },
  {
   "cell_type": "markdown",
   "id": "3e5ae48b",
   "metadata": {},
   "source": [
    "# 匹配对象\n",
    "匹配对象就是包含有关搜索和结果信息的对象。  \n",
    "* 注意：如果没有匹配，None将作为返回值，而不是匹配对象  "
   ]
  },
  {
   "cell_type": "code",
   "execution_count": 71,
   "id": "abf93ca1",
   "metadata": {
    "ExecuteTime": {
     "end_time": "2024-02-15T14:33:35.842724Z",
     "start_time": "2024-02-15T14:33:35.839265Z"
    }
   },
   "outputs": [
    {
     "name": "stdout",
     "output_type": "stream",
     "text": [
      "<re.Match object; span=(6, 8), match='wo'>\n"
     ]
    }
   ],
   "source": [
    "import re\n",
    "# search()函数返回一个Match对象\n",
    "txt = \"hello world\"\n",
    "x = re.search('wo',txt)\n",
    "print(x)"
   ]
  },
  {
   "cell_type": "markdown",
   "id": "882136e6",
   "metadata": {},
   "source": [
    "可以返回Match对象的函数如下：  \n",
    "1. span()函数返回一个包含匹配开始和结束位置的元组  \n",
    "2. string()函数返回传递给函数的字符串\n",
    "3. group()函数返回字符串中匹配的部分"
   ]
  },
  {
   "cell_type": "code",
   "execution_count": 73,
   "id": "65de4c91",
   "metadata": {
    "ExecuteTime": {
     "end_time": "2024-02-15T14:42:16.591632Z",
     "start_time": "2024-02-15T14:42:16.587397Z"
    }
   },
   "outputs": [
    {
     "name": "stdout",
     "output_type": "stream",
     "text": [
      "<re.Match object; span=(6, 11), match='world'>\n",
      "(6, 11)\n"
     ]
    }
   ],
   "source": [
    "# span()函数打印第一个匹配项的位置（开始和结束位置）\n",
    "import re\n",
    "txt = \"hello world\"\n",
    "x = re.search(r'\\bw\\w+',txt)\n",
    "print(x)\n",
    "print(x.span())"
   ]
  },
  {
   "cell_type": "code",
   "execution_count": 74,
   "id": "0c1266b5",
   "metadata": {
    "ExecuteTime": {
     "end_time": "2024-02-15T14:46:04.275047Z",
     "start_time": "2024-02-15T14:46:04.271023Z"
    }
   },
   "outputs": [
    {
     "name": "stdout",
     "output_type": "stream",
     "text": [
      "hello world\n"
     ]
    }
   ],
   "source": [
    "# string()函数如果匹配到，将会返回整个字符串\n",
    "import re\n",
    "txt = \"hello world\"\n",
    "x = re.search(r'\\bw\\w+',txt)\n",
    "print(x.string)"
   ]
  },
  {
   "cell_type": "code",
   "execution_count": 75,
   "id": "b93a380b",
   "metadata": {
    "ExecuteTime": {
     "end_time": "2024-02-15T14:53:37.861462Z",
     "start_time": "2024-02-15T14:53:37.857951Z"
    }
   },
   "outputs": [
    {
     "name": "stdout",
     "output_type": "stream",
     "text": [
      "world\n"
     ]
    }
   ],
   "source": [
    "# group()函数打印字符串中匹配的部分\n",
    "import re\n",
    "txt = \"hello world\"\n",
    "x = re.search(r'\\bw\\w+',txt)\n",
    "print(x.group())"
   ]
  },
  {
   "cell_type": "markdown",
   "id": "91641171",
   "metadata": {},
   "source": [
    "# 正则实战：段子爬取\n",
    "目标网站：[ZOL笑话频道](https://xiaohua.zol.com.cn/lengxiaohua/3.html)"
   ]
  },
  {
   "cell_type": "code",
   "execution_count": 1,
   "id": "7518583a",
   "metadata": {
    "ExecuteTime": {
     "end_time": "2024-02-16T08:00:27.743288Z",
     "start_time": "2024-02-16T08:00:25.271390Z"
    }
   },
   "outputs": [
    {
     "name": "stdout",
     "output_type": "stream",
     "text": [
      "请输入爬取的页数：1\n"
     ]
    },
    {
     "ename": "SSLError",
     "evalue": "HTTPSConnectionPool(host='xiaohua.zol.com.cn', port=443): Max retries exceeded with url: /lengxiaohua/ (Caused by SSLError(SSLError(1, '[SSL: UNSAFE_LEGACY_RENEGOTIATION_DISABLED] unsafe legacy renegotiation disabled (_ssl.c:1006)')))",
     "output_type": "error",
     "traceback": [
      "\u001b[1;31m---------------------------------------------------------------------------\u001b[0m",
      "\u001b[1;31mSSLError\u001b[0m                                  Traceback (most recent call last)",
      "File \u001b[1;32mE:\\ANACONDA3\\Lib\\site-packages\\urllib3\\connectionpool.py:714\u001b[0m, in \u001b[0;36mHTTPConnectionPool.urlopen\u001b[1;34m(self, method, url, body, headers, retries, redirect, assert_same_host, timeout, pool_timeout, release_conn, chunked, body_pos, **response_kw)\u001b[0m\n\u001b[0;32m    713\u001b[0m \u001b[38;5;66;03m# Make the request on the httplib connection object.\u001b[39;00m\n\u001b[1;32m--> 714\u001b[0m httplib_response \u001b[38;5;241m=\u001b[39m \u001b[38;5;28mself\u001b[39m\u001b[38;5;241m.\u001b[39m_make_request(\n\u001b[0;32m    715\u001b[0m     conn,\n\u001b[0;32m    716\u001b[0m     method,\n\u001b[0;32m    717\u001b[0m     url,\n\u001b[0;32m    718\u001b[0m     timeout\u001b[38;5;241m=\u001b[39mtimeout_obj,\n\u001b[0;32m    719\u001b[0m     body\u001b[38;5;241m=\u001b[39mbody,\n\u001b[0;32m    720\u001b[0m     headers\u001b[38;5;241m=\u001b[39mheaders,\n\u001b[0;32m    721\u001b[0m     chunked\u001b[38;5;241m=\u001b[39mchunked,\n\u001b[0;32m    722\u001b[0m )\n\u001b[0;32m    724\u001b[0m \u001b[38;5;66;03m# If we're going to release the connection in ``finally:``, then\u001b[39;00m\n\u001b[0;32m    725\u001b[0m \u001b[38;5;66;03m# the response doesn't need to know about the connection. Otherwise\u001b[39;00m\n\u001b[0;32m    726\u001b[0m \u001b[38;5;66;03m# it will also try to release it and we'll have a double-release\u001b[39;00m\n\u001b[0;32m    727\u001b[0m \u001b[38;5;66;03m# mess.\u001b[39;00m\n",
      "File \u001b[1;32mE:\\ANACONDA3\\Lib\\site-packages\\urllib3\\connectionpool.py:403\u001b[0m, in \u001b[0;36mHTTPConnectionPool._make_request\u001b[1;34m(self, conn, method, url, timeout, chunked, **httplib_request_kw)\u001b[0m\n\u001b[0;32m    402\u001b[0m \u001b[38;5;28;01mtry\u001b[39;00m:\n\u001b[1;32m--> 403\u001b[0m     \u001b[38;5;28mself\u001b[39m\u001b[38;5;241m.\u001b[39m_validate_conn(conn)\n\u001b[0;32m    404\u001b[0m \u001b[38;5;28;01mexcept\u001b[39;00m (SocketTimeout, BaseSSLError) \u001b[38;5;28;01mas\u001b[39;00m e:\n\u001b[0;32m    405\u001b[0m     \u001b[38;5;66;03m# Py2 raises this as a BaseSSLError, Py3 raises it as socket timeout.\u001b[39;00m\n",
      "File \u001b[1;32mE:\\ANACONDA3\\Lib\\site-packages\\urllib3\\connectionpool.py:1053\u001b[0m, in \u001b[0;36mHTTPSConnectionPool._validate_conn\u001b[1;34m(self, conn)\u001b[0m\n\u001b[0;32m   1052\u001b[0m \u001b[38;5;28;01mif\u001b[39;00m \u001b[38;5;129;01mnot\u001b[39;00m \u001b[38;5;28mgetattr\u001b[39m(conn, \u001b[38;5;124m\"\u001b[39m\u001b[38;5;124msock\u001b[39m\u001b[38;5;124m\"\u001b[39m, \u001b[38;5;28;01mNone\u001b[39;00m):  \u001b[38;5;66;03m# AppEngine might not have  `.sock`\u001b[39;00m\n\u001b[1;32m-> 1053\u001b[0m     conn\u001b[38;5;241m.\u001b[39mconnect()\n\u001b[0;32m   1055\u001b[0m \u001b[38;5;28;01mif\u001b[39;00m \u001b[38;5;129;01mnot\u001b[39;00m conn\u001b[38;5;241m.\u001b[39mis_verified:\n",
      "File \u001b[1;32mE:\\ANACONDA3\\Lib\\site-packages\\urllib3\\connection.py:419\u001b[0m, in \u001b[0;36mHTTPSConnection.connect\u001b[1;34m(self)\u001b[0m\n\u001b[0;32m    417\u001b[0m     context\u001b[38;5;241m.\u001b[39mload_default_certs()\n\u001b[1;32m--> 419\u001b[0m \u001b[38;5;28mself\u001b[39m\u001b[38;5;241m.\u001b[39msock \u001b[38;5;241m=\u001b[39m ssl_wrap_socket(\n\u001b[0;32m    420\u001b[0m     sock\u001b[38;5;241m=\u001b[39mconn,\n\u001b[0;32m    421\u001b[0m     keyfile\u001b[38;5;241m=\u001b[39m\u001b[38;5;28mself\u001b[39m\u001b[38;5;241m.\u001b[39mkey_file,\n\u001b[0;32m    422\u001b[0m     certfile\u001b[38;5;241m=\u001b[39m\u001b[38;5;28mself\u001b[39m\u001b[38;5;241m.\u001b[39mcert_file,\n\u001b[0;32m    423\u001b[0m     key_password\u001b[38;5;241m=\u001b[39m\u001b[38;5;28mself\u001b[39m\u001b[38;5;241m.\u001b[39mkey_password,\n\u001b[0;32m    424\u001b[0m     ca_certs\u001b[38;5;241m=\u001b[39m\u001b[38;5;28mself\u001b[39m\u001b[38;5;241m.\u001b[39mca_certs,\n\u001b[0;32m    425\u001b[0m     ca_cert_dir\u001b[38;5;241m=\u001b[39m\u001b[38;5;28mself\u001b[39m\u001b[38;5;241m.\u001b[39mca_cert_dir,\n\u001b[0;32m    426\u001b[0m     ca_cert_data\u001b[38;5;241m=\u001b[39m\u001b[38;5;28mself\u001b[39m\u001b[38;5;241m.\u001b[39mca_cert_data,\n\u001b[0;32m    427\u001b[0m     server_hostname\u001b[38;5;241m=\u001b[39mserver_hostname,\n\u001b[0;32m    428\u001b[0m     ssl_context\u001b[38;5;241m=\u001b[39mcontext,\n\u001b[0;32m    429\u001b[0m     tls_in_tls\u001b[38;5;241m=\u001b[39mtls_in_tls,\n\u001b[0;32m    430\u001b[0m )\n\u001b[0;32m    432\u001b[0m \u001b[38;5;66;03m# If we're using all defaults and the connection\u001b[39;00m\n\u001b[0;32m    433\u001b[0m \u001b[38;5;66;03m# is TLSv1 or TLSv1.1 we throw a DeprecationWarning\u001b[39;00m\n\u001b[0;32m    434\u001b[0m \u001b[38;5;66;03m# for the host.\u001b[39;00m\n",
      "File \u001b[1;32mE:\\ANACONDA3\\Lib\\site-packages\\urllib3\\util\\ssl_.py:449\u001b[0m, in \u001b[0;36mssl_wrap_socket\u001b[1;34m(sock, keyfile, certfile, cert_reqs, ca_certs, server_hostname, ssl_version, ciphers, ssl_context, ca_cert_dir, key_password, ca_cert_data, tls_in_tls)\u001b[0m\n\u001b[0;32m    448\u001b[0m \u001b[38;5;28;01mif\u001b[39;00m send_sni:\n\u001b[1;32m--> 449\u001b[0m     ssl_sock \u001b[38;5;241m=\u001b[39m _ssl_wrap_socket_impl(\n\u001b[0;32m    450\u001b[0m         sock, context, tls_in_tls, server_hostname\u001b[38;5;241m=\u001b[39mserver_hostname\n\u001b[0;32m    451\u001b[0m     )\n\u001b[0;32m    452\u001b[0m \u001b[38;5;28;01melse\u001b[39;00m:\n",
      "File \u001b[1;32mE:\\ANACONDA3\\Lib\\site-packages\\urllib3\\util\\ssl_.py:493\u001b[0m, in \u001b[0;36m_ssl_wrap_socket_impl\u001b[1;34m(sock, ssl_context, tls_in_tls, server_hostname)\u001b[0m\n\u001b[0;32m    492\u001b[0m \u001b[38;5;28;01mif\u001b[39;00m server_hostname:\n\u001b[1;32m--> 493\u001b[0m     \u001b[38;5;28;01mreturn\u001b[39;00m ssl_context\u001b[38;5;241m.\u001b[39mwrap_socket(sock, server_hostname\u001b[38;5;241m=\u001b[39mserver_hostname)\n\u001b[0;32m    494\u001b[0m \u001b[38;5;28;01melse\u001b[39;00m:\n",
      "File \u001b[1;32mE:\\ANACONDA3\\Lib\\ssl.py:517\u001b[0m, in \u001b[0;36mSSLContext.wrap_socket\u001b[1;34m(self, sock, server_side, do_handshake_on_connect, suppress_ragged_eofs, server_hostname, session)\u001b[0m\n\u001b[0;32m    511\u001b[0m \u001b[38;5;28;01mdef\u001b[39;00m \u001b[38;5;21mwrap_socket\u001b[39m(\u001b[38;5;28mself\u001b[39m, sock, server_side\u001b[38;5;241m=\u001b[39m\u001b[38;5;28;01mFalse\u001b[39;00m,\n\u001b[0;32m    512\u001b[0m                 do_handshake_on_connect\u001b[38;5;241m=\u001b[39m\u001b[38;5;28;01mTrue\u001b[39;00m,\n\u001b[0;32m    513\u001b[0m                 suppress_ragged_eofs\u001b[38;5;241m=\u001b[39m\u001b[38;5;28;01mTrue\u001b[39;00m,\n\u001b[0;32m    514\u001b[0m                 server_hostname\u001b[38;5;241m=\u001b[39m\u001b[38;5;28;01mNone\u001b[39;00m, session\u001b[38;5;241m=\u001b[39m\u001b[38;5;28;01mNone\u001b[39;00m):\n\u001b[0;32m    515\u001b[0m     \u001b[38;5;66;03m# SSLSocket class handles server_hostname encoding before it calls\u001b[39;00m\n\u001b[0;32m    516\u001b[0m     \u001b[38;5;66;03m# ctx._wrap_socket()\u001b[39;00m\n\u001b[1;32m--> 517\u001b[0m     \u001b[38;5;28;01mreturn\u001b[39;00m \u001b[38;5;28mself\u001b[39m\u001b[38;5;241m.\u001b[39msslsocket_class\u001b[38;5;241m.\u001b[39m_create(\n\u001b[0;32m    518\u001b[0m         sock\u001b[38;5;241m=\u001b[39msock,\n\u001b[0;32m    519\u001b[0m         server_side\u001b[38;5;241m=\u001b[39mserver_side,\n\u001b[0;32m    520\u001b[0m         do_handshake_on_connect\u001b[38;5;241m=\u001b[39mdo_handshake_on_connect,\n\u001b[0;32m    521\u001b[0m         suppress_ragged_eofs\u001b[38;5;241m=\u001b[39msuppress_ragged_eofs,\n\u001b[0;32m    522\u001b[0m         server_hostname\u001b[38;5;241m=\u001b[39mserver_hostname,\n\u001b[0;32m    523\u001b[0m         context\u001b[38;5;241m=\u001b[39m\u001b[38;5;28mself\u001b[39m,\n\u001b[0;32m    524\u001b[0m         session\u001b[38;5;241m=\u001b[39msession\n\u001b[0;32m    525\u001b[0m     )\n",
      "File \u001b[1;32mE:\\ANACONDA3\\Lib\\ssl.py:1108\u001b[0m, in \u001b[0;36mSSLSocket._create\u001b[1;34m(cls, sock, server_side, do_handshake_on_connect, suppress_ragged_eofs, server_hostname, context, session)\u001b[0m\n\u001b[0;32m   1107\u001b[0m             \u001b[38;5;28;01mraise\u001b[39;00m \u001b[38;5;167;01mValueError\u001b[39;00m(\u001b[38;5;124m\"\u001b[39m\u001b[38;5;124mdo_handshake_on_connect should not be specified for non-blocking sockets\u001b[39m\u001b[38;5;124m\"\u001b[39m)\n\u001b[1;32m-> 1108\u001b[0m         \u001b[38;5;28mself\u001b[39m\u001b[38;5;241m.\u001b[39mdo_handshake()\n\u001b[0;32m   1109\u001b[0m \u001b[38;5;28;01mexcept\u001b[39;00m (\u001b[38;5;167;01mOSError\u001b[39;00m, \u001b[38;5;167;01mValueError\u001b[39;00m):\n",
      "File \u001b[1;32mE:\\ANACONDA3\\Lib\\ssl.py:1379\u001b[0m, in \u001b[0;36mSSLSocket.do_handshake\u001b[1;34m(self, block)\u001b[0m\n\u001b[0;32m   1378\u001b[0m         \u001b[38;5;28mself\u001b[39m\u001b[38;5;241m.\u001b[39msettimeout(\u001b[38;5;28;01mNone\u001b[39;00m)\n\u001b[1;32m-> 1379\u001b[0m     \u001b[38;5;28mself\u001b[39m\u001b[38;5;241m.\u001b[39m_sslobj\u001b[38;5;241m.\u001b[39mdo_handshake()\n\u001b[0;32m   1380\u001b[0m \u001b[38;5;28;01mfinally\u001b[39;00m:\n",
      "\u001b[1;31mSSLError\u001b[0m: [SSL: UNSAFE_LEGACY_RENEGOTIATION_DISABLED] unsafe legacy renegotiation disabled (_ssl.c:1006)",
      "\nDuring handling of the above exception, another exception occurred:\n",
      "\u001b[1;31mMaxRetryError\u001b[0m                             Traceback (most recent call last)",
      "File \u001b[1;32mE:\\ANACONDA3\\Lib\\site-packages\\requests\\adapters.py:486\u001b[0m, in \u001b[0;36mHTTPAdapter.send\u001b[1;34m(self, request, stream, timeout, verify, cert, proxies)\u001b[0m\n\u001b[0;32m    485\u001b[0m \u001b[38;5;28;01mtry\u001b[39;00m:\n\u001b[1;32m--> 486\u001b[0m     resp \u001b[38;5;241m=\u001b[39m conn\u001b[38;5;241m.\u001b[39murlopen(\n\u001b[0;32m    487\u001b[0m         method\u001b[38;5;241m=\u001b[39mrequest\u001b[38;5;241m.\u001b[39mmethod,\n\u001b[0;32m    488\u001b[0m         url\u001b[38;5;241m=\u001b[39murl,\n\u001b[0;32m    489\u001b[0m         body\u001b[38;5;241m=\u001b[39mrequest\u001b[38;5;241m.\u001b[39mbody,\n\u001b[0;32m    490\u001b[0m         headers\u001b[38;5;241m=\u001b[39mrequest\u001b[38;5;241m.\u001b[39mheaders,\n\u001b[0;32m    491\u001b[0m         redirect\u001b[38;5;241m=\u001b[39m\u001b[38;5;28;01mFalse\u001b[39;00m,\n\u001b[0;32m    492\u001b[0m         assert_same_host\u001b[38;5;241m=\u001b[39m\u001b[38;5;28;01mFalse\u001b[39;00m,\n\u001b[0;32m    493\u001b[0m         preload_content\u001b[38;5;241m=\u001b[39m\u001b[38;5;28;01mFalse\u001b[39;00m,\n\u001b[0;32m    494\u001b[0m         decode_content\u001b[38;5;241m=\u001b[39m\u001b[38;5;28;01mFalse\u001b[39;00m,\n\u001b[0;32m    495\u001b[0m         retries\u001b[38;5;241m=\u001b[39m\u001b[38;5;28mself\u001b[39m\u001b[38;5;241m.\u001b[39mmax_retries,\n\u001b[0;32m    496\u001b[0m         timeout\u001b[38;5;241m=\u001b[39mtimeout,\n\u001b[0;32m    497\u001b[0m         chunked\u001b[38;5;241m=\u001b[39mchunked,\n\u001b[0;32m    498\u001b[0m     )\n\u001b[0;32m    500\u001b[0m \u001b[38;5;28;01mexcept\u001b[39;00m (ProtocolError, \u001b[38;5;167;01mOSError\u001b[39;00m) \u001b[38;5;28;01mas\u001b[39;00m err:\n",
      "File \u001b[1;32mE:\\ANACONDA3\\Lib\\site-packages\\urllib3\\connectionpool.py:798\u001b[0m, in \u001b[0;36mHTTPConnectionPool.urlopen\u001b[1;34m(self, method, url, body, headers, retries, redirect, assert_same_host, timeout, pool_timeout, release_conn, chunked, body_pos, **response_kw)\u001b[0m\n\u001b[0;32m    796\u001b[0m     e \u001b[38;5;241m=\u001b[39m ProtocolError(\u001b[38;5;124m\"\u001b[39m\u001b[38;5;124mConnection aborted.\u001b[39m\u001b[38;5;124m\"\u001b[39m, e)\n\u001b[1;32m--> 798\u001b[0m retries \u001b[38;5;241m=\u001b[39m retries\u001b[38;5;241m.\u001b[39mincrement(\n\u001b[0;32m    799\u001b[0m     method, url, error\u001b[38;5;241m=\u001b[39me, _pool\u001b[38;5;241m=\u001b[39m\u001b[38;5;28mself\u001b[39m, _stacktrace\u001b[38;5;241m=\u001b[39msys\u001b[38;5;241m.\u001b[39mexc_info()[\u001b[38;5;241m2\u001b[39m]\n\u001b[0;32m    800\u001b[0m )\n\u001b[0;32m    801\u001b[0m retries\u001b[38;5;241m.\u001b[39msleep()\n",
      "File \u001b[1;32mE:\\ANACONDA3\\Lib\\site-packages\\urllib3\\util\\retry.py:592\u001b[0m, in \u001b[0;36mRetry.increment\u001b[1;34m(self, method, url, response, error, _pool, _stacktrace)\u001b[0m\n\u001b[0;32m    591\u001b[0m \u001b[38;5;28;01mif\u001b[39;00m new_retry\u001b[38;5;241m.\u001b[39mis_exhausted():\n\u001b[1;32m--> 592\u001b[0m     \u001b[38;5;28;01mraise\u001b[39;00m MaxRetryError(_pool, url, error \u001b[38;5;129;01mor\u001b[39;00m ResponseError(cause))\n\u001b[0;32m    594\u001b[0m log\u001b[38;5;241m.\u001b[39mdebug(\u001b[38;5;124m\"\u001b[39m\u001b[38;5;124mIncremented Retry for (url=\u001b[39m\u001b[38;5;124m'\u001b[39m\u001b[38;5;132;01m%s\u001b[39;00m\u001b[38;5;124m'\u001b[39m\u001b[38;5;124m): \u001b[39m\u001b[38;5;132;01m%r\u001b[39;00m\u001b[38;5;124m\"\u001b[39m, url, new_retry)\n",
      "\u001b[1;31mMaxRetryError\u001b[0m: HTTPSConnectionPool(host='xiaohua.zol.com.cn', port=443): Max retries exceeded with url: /lengxiaohua/ (Caused by SSLError(SSLError(1, '[SSL: UNSAFE_LEGACY_RENEGOTIATION_DISABLED] unsafe legacy renegotiation disabled (_ssl.c:1006)')))",
      "\nDuring handling of the above exception, another exception occurred:\n",
      "\u001b[1;31mSSLError\u001b[0m                                  Traceback (most recent call last)",
      "Cell \u001b[1;32mIn[1], line 64\u001b[0m\n\u001b[0;32m     62\u001b[0m \u001b[38;5;28;01mif\u001b[39;00m \u001b[38;5;18m__name__\u001b[39m \u001b[38;5;241m==\u001b[39m \u001b[38;5;124m'\u001b[39m\u001b[38;5;124m__main__\u001b[39m\u001b[38;5;124m'\u001b[39m:\n\u001b[0;32m     63\u001b[0m     n \u001b[38;5;241m=\u001b[39m \u001b[38;5;28mint\u001b[39m(\u001b[38;5;28minput\u001b[39m(\u001b[38;5;124m'\u001b[39m\u001b[38;5;124m请输入爬取的页数：\u001b[39m\u001b[38;5;124m'\u001b[39m))\n\u001b[1;32m---> 64\u001b[0m     load(n)\n",
      "Cell \u001b[1;32mIn[1], line 37\u001b[0m, in \u001b[0;36mload\u001b[1;34m(page)\u001b[0m\n\u001b[0;32m     34\u001b[0m \u001b[38;5;28;01mif\u001b[39;00m page \u001b[38;5;241m==\u001b[39m \u001b[38;5;241m1\u001b[39m:\n\u001b[0;32m     35\u001b[0m     \u001b[38;5;66;03m# 获取源码内容，verify=False不认证       \u001b[39;00m\n\u001b[0;32m     36\u001b[0m     requests\u001b[38;5;241m.\u001b[39mpackages\u001b[38;5;241m.\u001b[39murllib3\u001b[38;5;241m.\u001b[39mdisable_warnings()\n\u001b[1;32m---> 37\u001b[0m     response \u001b[38;5;241m=\u001b[39m requests\u001b[38;5;241m.\u001b[39mget(url, headers\u001b[38;5;241m=\u001b[39mheaders, verify\u001b[38;5;241m=\u001b[39m\u001b[38;5;28;01mFalse\u001b[39;00m, timeout\u001b[38;5;241m=\u001b[39m\u001b[38;5;241m10\u001b[39m)\u001b[38;5;241m.\u001b[39mtext\n\u001b[0;32m     39\u001b[0m     \u001b[38;5;66;03m# 正则匹配\u001b[39;00m\n\u001b[0;32m     40\u001b[0m     item \u001b[38;5;241m=\u001b[39m pattern\u001b[38;5;241m.\u001b[39mfindall(response)\n",
      "File \u001b[1;32mE:\\ANACONDA3\\Lib\\site-packages\\requests\\api.py:73\u001b[0m, in \u001b[0;36mget\u001b[1;34m(url, params, **kwargs)\u001b[0m\n\u001b[0;32m     62\u001b[0m \u001b[38;5;28;01mdef\u001b[39;00m \u001b[38;5;21mget\u001b[39m(url, params\u001b[38;5;241m=\u001b[39m\u001b[38;5;28;01mNone\u001b[39;00m, \u001b[38;5;241m*\u001b[39m\u001b[38;5;241m*\u001b[39mkwargs):\n\u001b[0;32m     63\u001b[0m \u001b[38;5;250m    \u001b[39m\u001b[38;5;124mr\u001b[39m\u001b[38;5;124;03m\"\"\"Sends a GET request.\u001b[39;00m\n\u001b[0;32m     64\u001b[0m \n\u001b[0;32m     65\u001b[0m \u001b[38;5;124;03m    :param url: URL for the new :class:`Request` object.\u001b[39;00m\n\u001b[1;32m   (...)\u001b[0m\n\u001b[0;32m     70\u001b[0m \u001b[38;5;124;03m    :rtype: requests.Response\u001b[39;00m\n\u001b[0;32m     71\u001b[0m \u001b[38;5;124;03m    \"\"\"\u001b[39;00m\n\u001b[1;32m---> 73\u001b[0m     \u001b[38;5;28;01mreturn\u001b[39;00m request(\u001b[38;5;124m\"\u001b[39m\u001b[38;5;124mget\u001b[39m\u001b[38;5;124m\"\u001b[39m, url, params\u001b[38;5;241m=\u001b[39mparams, \u001b[38;5;241m*\u001b[39m\u001b[38;5;241m*\u001b[39mkwargs)\n",
      "File \u001b[1;32mE:\\ANACONDA3\\Lib\\site-packages\\requests\\api.py:59\u001b[0m, in \u001b[0;36mrequest\u001b[1;34m(method, url, **kwargs)\u001b[0m\n\u001b[0;32m     55\u001b[0m \u001b[38;5;66;03m# By using the 'with' statement we are sure the session is closed, thus we\u001b[39;00m\n\u001b[0;32m     56\u001b[0m \u001b[38;5;66;03m# avoid leaving sockets open which can trigger a ResourceWarning in some\u001b[39;00m\n\u001b[0;32m     57\u001b[0m \u001b[38;5;66;03m# cases, and look like a memory leak in others.\u001b[39;00m\n\u001b[0;32m     58\u001b[0m \u001b[38;5;28;01mwith\u001b[39;00m sessions\u001b[38;5;241m.\u001b[39mSession() \u001b[38;5;28;01mas\u001b[39;00m session:\n\u001b[1;32m---> 59\u001b[0m     \u001b[38;5;28;01mreturn\u001b[39;00m session\u001b[38;5;241m.\u001b[39mrequest(method\u001b[38;5;241m=\u001b[39mmethod, url\u001b[38;5;241m=\u001b[39murl, \u001b[38;5;241m*\u001b[39m\u001b[38;5;241m*\u001b[39mkwargs)\n",
      "File \u001b[1;32mE:\\ANACONDA3\\Lib\\site-packages\\requests\\sessions.py:589\u001b[0m, in \u001b[0;36mSession.request\u001b[1;34m(self, method, url, params, data, headers, cookies, files, auth, timeout, allow_redirects, proxies, hooks, stream, verify, cert, json)\u001b[0m\n\u001b[0;32m    584\u001b[0m send_kwargs \u001b[38;5;241m=\u001b[39m {\n\u001b[0;32m    585\u001b[0m     \u001b[38;5;124m\"\u001b[39m\u001b[38;5;124mtimeout\u001b[39m\u001b[38;5;124m\"\u001b[39m: timeout,\n\u001b[0;32m    586\u001b[0m     \u001b[38;5;124m\"\u001b[39m\u001b[38;5;124mallow_redirects\u001b[39m\u001b[38;5;124m\"\u001b[39m: allow_redirects,\n\u001b[0;32m    587\u001b[0m }\n\u001b[0;32m    588\u001b[0m send_kwargs\u001b[38;5;241m.\u001b[39mupdate(settings)\n\u001b[1;32m--> 589\u001b[0m resp \u001b[38;5;241m=\u001b[39m \u001b[38;5;28mself\u001b[39m\u001b[38;5;241m.\u001b[39msend(prep, \u001b[38;5;241m*\u001b[39m\u001b[38;5;241m*\u001b[39msend_kwargs)\n\u001b[0;32m    591\u001b[0m \u001b[38;5;28;01mreturn\u001b[39;00m resp\n",
      "File \u001b[1;32mE:\\ANACONDA3\\Lib\\site-packages\\requests\\sessions.py:703\u001b[0m, in \u001b[0;36mSession.send\u001b[1;34m(self, request, **kwargs)\u001b[0m\n\u001b[0;32m    700\u001b[0m start \u001b[38;5;241m=\u001b[39m preferred_clock()\n\u001b[0;32m    702\u001b[0m \u001b[38;5;66;03m# Send the request\u001b[39;00m\n\u001b[1;32m--> 703\u001b[0m r \u001b[38;5;241m=\u001b[39m adapter\u001b[38;5;241m.\u001b[39msend(request, \u001b[38;5;241m*\u001b[39m\u001b[38;5;241m*\u001b[39mkwargs)\n\u001b[0;32m    705\u001b[0m \u001b[38;5;66;03m# Total elapsed time of the request (approximately)\u001b[39;00m\n\u001b[0;32m    706\u001b[0m elapsed \u001b[38;5;241m=\u001b[39m preferred_clock() \u001b[38;5;241m-\u001b[39m start\n",
      "File \u001b[1;32mE:\\ANACONDA3\\Lib\\site-packages\\requests\\adapters.py:517\u001b[0m, in \u001b[0;36mHTTPAdapter.send\u001b[1;34m(self, request, stream, timeout, verify, cert, proxies)\u001b[0m\n\u001b[0;32m    513\u001b[0m         \u001b[38;5;28;01mraise\u001b[39;00m ProxyError(e, request\u001b[38;5;241m=\u001b[39mrequest)\n\u001b[0;32m    515\u001b[0m     \u001b[38;5;28;01mif\u001b[39;00m \u001b[38;5;28misinstance\u001b[39m(e\u001b[38;5;241m.\u001b[39mreason, _SSLError):\n\u001b[0;32m    516\u001b[0m         \u001b[38;5;66;03m# This branch is for urllib3 v1.22 and later.\u001b[39;00m\n\u001b[1;32m--> 517\u001b[0m         \u001b[38;5;28;01mraise\u001b[39;00m SSLError(e, request\u001b[38;5;241m=\u001b[39mrequest)\n\u001b[0;32m    519\u001b[0m     \u001b[38;5;28;01mraise\u001b[39;00m \u001b[38;5;167;01mConnectionError\u001b[39;00m(e, request\u001b[38;5;241m=\u001b[39mrequest)\n\u001b[0;32m    521\u001b[0m \u001b[38;5;28;01mexcept\u001b[39;00m ClosedPoolError \u001b[38;5;28;01mas\u001b[39;00m e:\n",
      "\u001b[1;31mSSLError\u001b[0m: HTTPSConnectionPool(host='xiaohua.zol.com.cn', port=443): Max retries exceeded with url: /lengxiaohua/ (Caused by SSLError(SSLError(1, '[SSL: UNSAFE_LEGACY_RENEGOTIATION_DISABLED] unsafe legacy renegotiation disabled (_ssl.c:1006)')))"
     ]
    }
   ],
   "source": [
    "# coding=utf-8\n",
    "\n",
    "# Step1:导入模块\n",
    "import requests  # 用于请求网页\n",
    "import re  # 用于匹配具体内容\n",
    "import logging\n",
    "logging.captureWarnings(True)  # 忽略警告\n",
    "import time  # 控制时间的模块\n",
    "\n",
    "# Step2:要请求的网页\n",
    "# 第一页\n",
    "url = \"https://xiaohua.zol.com.cn/lengxiaohua/\"\n",
    "# 第n页(n>=2)\n",
    "url2 = \"https://xiaohua.zol.com.cn/lengxiaohua/%d.html\"\n",
    "\n",
    "headers = {\n",
    "    'Connection':'close',\n",
    "    \"User-Agent\": \"Mozilla/5.0 (Linux; Android 6.0; Nexus 5 Build/MRA58N) AppleWebKit/537.36 (KHTML, like Gecko) Chrome/99.0.4844.51 Mobile Safari/537.36\",\n",
    "}\n",
    "\n",
    "def writefile(items):\n",
    "    with open('duanzi.txt', 'a') as f:\n",
    "        print('一共有%d条段子' % len(items))\n",
    "        for item in items:\n",
    "            f.write(item + '\\n')\n",
    "            f.write('————————————————————————————————————————\\n')\n",
    "        pass\n",
    "\n",
    "\n",
    "# 正则表达式\n",
    "pattern = re.compile(r'<div class=\"summary-text\">(.*?)</div>')\n",
    "\n",
    "def load(page):\n",
    "    if page == 1:\n",
    "        # 获取源码内容，verify=False不认证       \n",
    "        requests.packages.urllib3.disable_warnings()\n",
    "        response = requests.get(url, headers=headers, verify=False, timeout=10).text\n",
    "\n",
    "        # 正则匹配\n",
    "        item = pattern.findall(response)\n",
    "        response.close()\n",
    "        # 写入\n",
    "        writefile(item)\n",
    "    elif page > 1:\n",
    "        for p in range(1, page + 1):\n",
    "            if p == 1:\n",
    "                duanzi = url\n",
    "            else:\n",
    "                duanzi = url2 % (p)\n",
    "            print(duanzi)\n",
    "            requests.packages.urllib3.disable_warnings()\n",
    "            response = requests.get(duanzi, headers=headers, verify=False, timeout=10).text\n",
    "            response.close()\n",
    "            # 正则匹配\n",
    "            item = pattern.findall(response,re.S)\n",
    "            # 写入\n",
    "            writefile(item)\n",
    "            time.sleep(2)\n",
    "        pass\n",
    "\n",
    "\n",
    "if __name__ == '__main__':\n",
    "    n = int(input('请输入爬取的页数：'))\n",
    "    load(n)"
   ]
  },
  {
   "cell_type": "code",
   "execution_count": 14,
   "id": "f2fcce2a",
   "metadata": {
    "ExecuteTime": {
     "end_time": "2024-02-16T01:11:06.641041Z",
     "start_time": "2024-02-16T01:11:05.298017Z"
    }
   },
   "outputs": [
    {
     "name": "stdout",
     "output_type": "stream",
     "text": [
      "请输入爬取的页数：1\n",
      "https://xiaohua.zol.com.cn/lengxiaohua/\n",
      "SSL Error encountered for URL: https://xiaohua.zol.com.cn/lengxiaohua/: HTTPSConnectionPool(host='xiaohua.zol.com.cn', port=443): Max retries exceeded with url: /lengxiaohua/ (Caused by SSLError(SSLError(1, '[SSL: UNSAFE_LEGACY_RENEGOTIATION_DISABLED] unsafe legacy renegotiation disabled (_ssl.c:1006)')))\n"
     ]
    }
   ],
   "source": [
    "# coding=utf-8\n",
    "import requests\n",
    "import re\n",
    "import logging\n",
    "import time\n",
    "\n",
    "# 忽略警告（尽可能避免使用，最好是解决SSL问题）\n",
    "logging.captureWarnings(True)\n",
    "\n",
    "# 使用会话对象\n",
    "session = requests.Session()\n",
    "session.headers.update({\n",
    "    \"User-Agent\": \"Mozilla/5.0 (Linux; Android 6.0; Nexus 5 Build/MRA58N) AppleWebKit/537.36 (KHTML, like Gecko) Chrome/99.0.4844.51 Mobile Safari/537.36\",\n",
    "})\n",
    "\n",
    "def writefile(items):\n",
    "    with open('duanzi.txt', 'a') as f:\n",
    "        print('一共有%d条段子' % len(items))\n",
    "        for item in items:\n",
    "            f.write(item + '\\n')\n",
    "            f.write('————————————————————————————————————————\\n')\n",
    "\n",
    "pattern = re.compile(r'<div class=\"summary-text\">(.*?)</div>', re.S)\n",
    "\n",
    "def load(page):\n",
    "    url = \"https://xiaohua.zol.com.cn/lengxiaohua/\"\n",
    "    url2 = \"https://xiaohua.zol.com.cn/lengxiaohua/%d.html\"\n",
    "    \n",
    "    for p in range(1, page + 1):\n",
    "        current_url = url if p == 1 else url2 % p\n",
    "        print(current_url)\n",
    "        try:\n",
    "            response = session.get(current_url, timeout=10).text\n",
    "            items = pattern.findall(response)\n",
    "            writefile(items)\n",
    "            time.sleep(2)\n",
    "        except requests.exceptions.SSLError as e:\n",
    "            print(f\"SSL Error encountered for URL: {current_url}: {e}\")\n",
    "\n",
    "if __name__ == '__main__':\n",
    "    n = int(input('请输入爬取的页数：'))\n",
    "    load(n)\n"
   ]
  },
  {
   "cell_type": "markdown",
   "id": "921bf9cf",
   "metadata": {},
   "source": [
    "# 作业习题\n",
    "[在线检验正则表达式网站](https://tool.oschina.net/regex#)"
   ]
  },
  {
   "cell_type": "markdown",
   "id": "8f59cb53",
   "metadata": {},
   "source": [
    "1) 提取下列字符串中的单词  \n",
    "`I love myself`"
   ]
  },
  {
   "cell_type": "code",
   "execution_count": 27,
   "id": "525a3ae8",
   "metadata": {
    "ExecuteTime": {
     "end_time": "2024-02-16T02:46:53.032820Z",
     "start_time": "2024-02-16T02:46:53.028275Z"
    }
   },
   "outputs": [
    {
     "name": "stdout",
     "output_type": "stream",
     "text": [
      "['I', 'love', 'mysself']\n",
      "['I', 'love', 'mysself']\n"
     ]
    }
   ],
   "source": [
    "import re\n",
    "txt = \"I love mysself\"\n",
    "x = re.split('\\s',txt)\n",
    "y = re.findall('\\w+',txt)\n",
    "print(x)\n",
    "print(y)"
   ]
  },
  {
   "cell_type": "markdown",
   "id": "dc411baf",
   "metadata": {},
   "source": [
    "2. 提取下面网址的域名  \n",
    "`https://blog.csdn.net/weixin_46211269?spm=1000.2115.3001.5343`"
   ]
  },
  {
   "cell_type": "code",
   "execution_count": 29,
   "id": "cbf89b54",
   "metadata": {
    "ExecuteTime": {
     "end_time": "2024-02-16T02:49:48.212944Z",
     "start_time": "2024-02-16T02:49:48.208928Z"
    }
   },
   "outputs": [
    {
     "name": "stdout",
     "output_type": "stream",
     "text": [
      "['blog.csdn.net']\n",
      "['blog.csdn.net']\n"
     ]
    }
   ],
   "source": [
    "import re\n",
    "txt = \"https://blog.csdn.net/weixin_46211269?spm=1000.2115.3001.5343\"\n",
    "x = re.findall(r'https://([\\w.]+)/',txt)\n",
    "y = re.findall(r'https://(.*?)/',txt)  # 非贪婪模式\n",
    "print(x)\n",
    "print(y)"
   ]
  },
  {
   "cell_type": "markdown",
   "id": "26f7e7c9",
   "metadata": {},
   "source": [
    "3. 去除下面HTML代码中的标签，只留下文字  \n",
    "`<h3>职位描述</h3>`  \n",
    "工作内容  \n",
    "`<br>1.web应用开发`  \n",
    "`<br>2.Paas云平台开发`  \n",
    "`<br>3.系统维护、调试`  \n",
    "`<br>热烈欢迎各位有志于从事互联网产品开发的人才应聘该职位`  \n",
    "`<br>先决条件：`  \n",
    "`请确保至少对Python、Javascript这两门语言有深入学习研究的渴望`  \n",
    "`</div>`"
   ]
  },
  {
   "cell_type": "code",
   "execution_count": 37,
   "id": "f06e83f2",
   "metadata": {
    "ExecuteTime": {
     "end_time": "2024-02-16T02:54:19.509047Z",
     "start_time": "2024-02-16T02:54:19.505532Z"
    }
   },
   "outputs": [
    {
     "name": "stdout",
     "output_type": "stream",
     "text": [
      "\n",
      "职位描述\n",
      "工作内容：\n",
      "1. Web 应用开发\n",
      "2. PaaS云平台开发\n",
      "3. 系统维护、调试\n",
      "热烈欢迎各位 计算机相关专业  或非计算机相关专业 的热爱技术，有志于从事互联网产品开发的同学投递该职位。\n",
      "先决条件：\n",
      "1. 请确保你至少对 Python、JavaScript 这两门语言都有深入学习研究的欲望\n",
      "2. 对 Web 前端的知识及其实现充满好奇，能够对所有技术保持好奇更好3. 技术是为产品服务的，必须要掌握或愿意学习掌握将技术转化为产品的能力对于以上三点有不同看法的，不适合从事该职位。\n",
      "\n",
      "\n"
     ]
    }
   ],
   "source": [
    "import re\n",
    "txt='''\n",
    "<h3>职位描述</h3>\n",
    "工作内容：\n",
    "<br>1. Web 应用开发\n",
    "<br>2. PaaS云平台开发\n",
    "<br>3. 系统维护、调试\n",
    "<br>热烈欢迎各位 计算机相关专业  或非计算机相关专业 的热爱技术，有志于从事互联网产品开发的同学投递该职位。\n",
    "<br>先决条件：\n",
    "<br>1. 请确保你至少对 Python、JavaScript 这两门语言都有深入学习研究的欲望\n",
    "<br>2. 对 Web 前端的知识及其实现充满好奇，能够对所有技术保持好奇更好<br>3. 技术是为产品服务的，必须要掌握或愿意学习掌握将技术转化为产品的能力<br>对于以上三点有不同看法的，不适合从事该职位。\n",
    "</div>\n",
    "'''\n",
    "x = re.sub(r'</?\\w+>','',txt)\n",
    "print(x)"
   ]
  },
  {
   "cell_type": "markdown",
   "id": "df6072f8",
   "metadata": {},
   "source": [
    "4. 匹配下列字符串中的邮箱  \n",
    "`email:2395606216@qq.com`"
   ]
  },
  {
   "cell_type": "code",
   "execution_count": 40,
   "id": "d68ce114",
   "metadata": {
    "ExecuteTime": {
     "end_time": "2024-02-16T03:01:55.636878Z",
     "start_time": "2024-02-16T03:01:55.632309Z"
    }
   },
   "outputs": [
    {
     "name": "stdout",
     "output_type": "stream",
     "text": [
      "['2395606216@qq.com']\n",
      "['2395606216@qq.com']\n"
     ]
    }
   ],
   "source": [
    "import re\n",
    "txt = \"email:2395606216@qq.com\"\n",
    "x = re.findall(r'\\d+@.*com',txt)\n",
    "y = re.findall(r':(.*)',txt)  # 贪婪模式\n",
    "print(x)\n",
    "print(y)"
   ]
  },
  {
   "cell_type": "markdown",
   "id": "261e8f76",
   "metadata": {},
   "source": [
    "5. 用正则表达式匹配手机号"
   ]
  },
  {
   "cell_type": "code",
   "execution_count": 41,
   "id": "ff215382",
   "metadata": {
    "ExecuteTime": {
     "end_time": "2024-02-16T03:06:42.618810Z",
     "start_time": "2024-02-16T03:06:42.614098Z"
    }
   },
   "outputs": [
    {
     "name": "stdout",
     "output_type": "stream",
     "text": [
      "15280806160\n"
     ]
    }
   ],
   "source": [
    "def CheckMobile(str):\n",
    "    preg = '^1(([3579]\\d)|([47]\\d))\\d{8}$'\n",
    "    # 这部分确保第二位数字可以是 3、5、7 或 9（用于移动号码）或 4（用于虚拟网络运营商号码）。\n",
    "    res = re.match(preg,str)\n",
    "    return res\n",
    "print(CheckMobile('15280806160').group())"
   ]
  },
  {
   "cell_type": "markdown",
   "id": "16c7d864",
   "metadata": {},
   "source": [
    "6. 编写一个函数，使用正则表达式匹配一个字符串中是否包含字母z"
   ]
  },
  {
   "cell_type": "code",
   "execution_count": 46,
   "id": "7e277485",
   "metadata": {
    "ExecuteTime": {
     "end_time": "2024-02-16T03:18:31.134976Z",
     "start_time": "2024-02-16T03:18:31.129878Z"
    }
   },
   "outputs": [
    {
     "name": "stdout",
     "output_type": "stream",
     "text": [
      "匹配成功！\n",
      "匹配失败！\n"
     ]
    }
   ],
   "source": [
    "import re\n",
    "def CheckZ(str):\n",
    "    patterns = '\\w*z.\\w*'\n",
    "    x = re.search(patterns,str)\n",
    "    if x:\n",
    "        print(\"匹配成功！\")\n",
    "    else:\n",
    "        print(\"匹配失败！\")\n",
    "        \n",
    "CheckZ('zyzyzyz')\n",
    "CheckZ(\"python\")"
   ]
  },
  {
   "cell_type": "markdown",
   "id": "7a094f3f",
   "metadata": {},
   "source": [
    "7. 匹配去除下面列表中每一个值的括号  \n",
    "样例输入：  \n",
    "`items = [\"csdn(.com)\",\"zhihu(.com)\",\"github(.com)\",\"stackoverflow(.com)\"]`"
   ]
  },
  {
   "cell_type": "code",
   "execution_count": 54,
   "id": "88f39961",
   "metadata": {
    "ExecuteTime": {
     "end_time": "2024-02-16T03:25:08.944310Z",
     "start_time": "2024-02-16T03:25:08.940246Z"
    }
   },
   "outputs": [
    {
     "name": "stdout",
     "output_type": "stream",
     "text": [
      "csdn\n",
      "zhihu\n",
      "github\n",
      "stackoverflow\n"
     ]
    }
   ],
   "source": [
    "import re\n",
    "items = [\"csdn(.com)\",\"zhihu(.com)\",\"github(.com)\",\"stackoverflow(.com)\"]\n",
    "for item in items:\n",
    "    x = re.sub(r\" ?\\([^)]+\\)\", \"\", item)\n",
    "#     ?：匹配前面的字符零次或一次，即可有可无。\n",
    "#     \\(：匹配左括号 (。\n",
    "#     [^)]+：匹配一个或多个非右括号字符。\n",
    "#     \\)：匹配右括号 )。\n",
    "    print(x)"
   ]
  },
  {
   "cell_type": "markdown",
   "id": "d110702e",
   "metadata": {},
   "source": [
    "8. 使用正则表达式将yyyy-mm-dd格式的日期转换为dd-mm-yyyy格式"
   ]
  },
  {
   "cell_type": "code",
   "execution_count": 55,
   "id": "2283d67f",
   "metadata": {
    "ExecuteTime": {
     "end_time": "2024-02-16T03:30:33.093469Z",
     "start_time": "2024-02-16T03:30:33.089018Z"
    }
   },
   "outputs": [
    {
     "name": "stdout",
     "output_type": "stream",
     "text": [
      "原来如期为:  2024-02-16\n",
      "修改后日期为： 16-02-2024\n"
     ]
    }
   ],
   "source": [
    "import re\n",
    "def change(dt):\n",
    "    return re.sub(r'(\\d+)-(\\d+)-(\\d+)', '\\\\3-\\\\2-\\\\1', dt)\n",
    "# \\\\3-\\\\2-\\\\1 表示将第三组数字放在第一个位置，第二组数字放在第二个位置，第一组数字放在第三个位置，从而实现日期格式的修改。\n",
    "dt = \"2024-02-16\"\n",
    "print(\"原来如期为: \",dt)\n",
    "print(\"修改后日期为：\",change(dt))"
   ]
  }
 ],
 "metadata": {
  "kernelspec": {
   "display_name": "Python 3 (ipykernel)",
   "language": "python",
   "name": "python3"
  },
  "language_info": {
   "codemirror_mode": {
    "name": "ipython",
    "version": 3
   },
   "file_extension": ".py",
   "mimetype": "text/x-python",
   "name": "python",
   "nbconvert_exporter": "python",
   "pygments_lexer": "ipython3",
   "version": "3.11.5"
  },
  "toc": {
   "base_numbering": 1,
   "nav_menu": {},
   "number_sections": true,
   "sideBar": true,
   "skip_h1_title": false,
   "title_cell": "Table of Contents",
   "title_sidebar": "Contents",
   "toc_cell": false,
   "toc_position": {
    "height": "calc(100% - 180px)",
    "left": "10px",
    "top": "150px",
    "width": "286.521px"
   },
   "toc_section_display": true,
   "toc_window_display": true
  },
  "varInspector": {
   "cols": {
    "lenName": 16,
    "lenType": 16,
    "lenVar": 40
   },
   "kernels_config": {
    "python": {
     "delete_cmd_postfix": "",
     "delete_cmd_prefix": "del ",
     "library": "var_list.py",
     "varRefreshCmd": "print(var_dic_list())"
    },
    "r": {
     "delete_cmd_postfix": ") ",
     "delete_cmd_prefix": "rm(",
     "library": "var_list.r",
     "varRefreshCmd": "cat(var_dic_list()) "
    }
   },
   "types_to_exclude": [
    "module",
    "function",
    "builtin_function_or_method",
    "instance",
    "_Feature"
   ],
   "window_display": false
  }
 },
 "nbformat": 4,
 "nbformat_minor": 5
}
